{
 "cells": [
  {
   "cell_type": "code",
   "execution_count": 1,
   "metadata": {},
   "outputs": [],
   "source": [
    "#Potrebne biblioteke\n",
    "import os\n",
    "import shutil\n",
    "import numpy as np\n",
    "import pandas as pd\n",
    "from sklearn.model_selection import train_test_split\n",
    "from collections import Counter"
   ]
  },
  {
   "cell_type": "code",
   "execution_count": 4,
   "metadata": {},
   "outputs": [],
   "source": [
    "#Putanje do uzoraka u različitim kadrovima\n",
    "path_HE = \"C:/Users/Public/Uzorak_slika/HE\"\n",
    "path_Fine = \"C:/Users/Public/Uzorak_slika/Fine\"\n",
    "path_Fokus = \"C:/Users/Public/Uzorak_slika/Fokus\""
   ]
  },
  {
   "cell_type": "markdown",
   "metadata": {},
   "source": [
    "### 1. Kreiranje stratuma (slojeva uzorka)"
   ]
  },
  {
   "cell_type": "markdown",
   "metadata": {},
   "source": [
    "Cilj je uzorkovati podatke na takava način da oni slojevi koji su prisutni kod cijelovitog uzorka budu reflektirani u skupovima za učenje, validaciju i testiranje. Stratifikacija se radi prema **operateru** i **tipu proizvoda**, npr. udio uzorka u kojima operater **O1** radi na proizvodu **T1** treba biti sličan u sva tri podskupa cijelovitog uzorka. Ovaj pristup za cilj ima osigurati bolju generalizaciju modela."
   ]
  },
  {
   "cell_type": "code",
   "execution_count": 5,
   "metadata": {
    "collapsed": true
   },
   "outputs": [
    {
     "ename": "ValueError",
     "evalue": "invalid literal for int() with base 10: 'test'",
     "output_type": "error",
     "traceback": [
      "\u001b[1;31m---------------------------------------------------------------------------\u001b[0m",
      "\u001b[1;31mValueError\u001b[0m                                Traceback (most recent call last)",
      "\u001b[1;32m<ipython-input-5-bdb1a1f50d84>\u001b[0m in \u001b[0;36m<module>\u001b[1;34m\u001b[0m\n\u001b[0;32m      1\u001b[0m \u001b[1;31m#Lista uzoraka i list oznaka za strat\u001b[0m\u001b[1;33m\u001b[0m\u001b[1;33m\u001b[0m\u001b[1;33m\u001b[0m\u001b[0m\n\u001b[1;32m----> 2\u001b[1;33m \u001b[0msamples\u001b[0m \u001b[1;33m=\u001b[0m \u001b[0msorted\u001b[0m\u001b[1;33m(\u001b[0m\u001b[0mos\u001b[0m\u001b[1;33m.\u001b[0m\u001b[0mlistdir\u001b[0m\u001b[1;33m(\u001b[0m\u001b[0mpath_HE\u001b[0m\u001b[1;33m)\u001b[0m\u001b[1;33m,\u001b[0m \u001b[0mkey\u001b[0m\u001b[1;33m=\u001b[0m\u001b[1;32mlambda\u001b[0m \u001b[0mx\u001b[0m\u001b[1;33m:\u001b[0m \u001b[0mint\u001b[0m\u001b[1;33m(\u001b[0m\u001b[0mx\u001b[0m\u001b[1;33m.\u001b[0m\u001b[0msplit\u001b[0m\u001b[1;33m(\u001b[0m\u001b[1;34m\"_\"\u001b[0m\u001b[1;33m)\u001b[0m\u001b[1;33m[\u001b[0m\u001b[1;36m0\u001b[0m\u001b[1;33m]\u001b[0m\u001b[1;33m)\u001b[0m\u001b[1;33m)\u001b[0m \u001b[1;31m#trik da budu sortirani prema broju uzorka\u001b[0m\u001b[1;33m\u001b[0m\u001b[1;33m\u001b[0m\u001b[0m\n\u001b[0m\u001b[0;32m      3\u001b[0m \u001b[0mstratum_labels\u001b[0m \u001b[1;33m=\u001b[0m \u001b[1;33m[\u001b[0m\u001b[0msample\u001b[0m\u001b[1;33m.\u001b[0m\u001b[0msplit\u001b[0m\u001b[1;33m(\u001b[0m\u001b[1;34m\"_\"\u001b[0m\u001b[1;33m,\u001b[0m \u001b[0mmaxsplit\u001b[0m\u001b[1;33m=\u001b[0m\u001b[1;36m3\u001b[0m\u001b[1;33m)\u001b[0m\u001b[1;33m[\u001b[0m\u001b[1;36m3\u001b[0m\u001b[1;33m]\u001b[0m \u001b[1;32mfor\u001b[0m \u001b[0msample\u001b[0m \u001b[1;32min\u001b[0m \u001b[0msamples\u001b[0m\u001b[1;33m]\u001b[0m \u001b[1;31m#oznaka prema kojoj se radi stratifikacija npr. \"O1_T1\"\u001b[0m\u001b[1;33m\u001b[0m\u001b[1;33m\u001b[0m\u001b[0m\n\u001b[0;32m      4\u001b[0m \u001b[1;31m#len(samples), len(stratum_labels)\u001b[0m\u001b[1;33m\u001b[0m\u001b[1;33m\u001b[0m\u001b[1;33m\u001b[0m\u001b[0m\n\u001b[0;32m      5\u001b[0m \u001b[1;31m#len(np.unique(stratum_labels)) == 12 #Provjeri da li imaš 12 slojeva (4 operatera x 3 tipa proizvoda)\u001b[0m\u001b[1;33m\u001b[0m\u001b[1;33m\u001b[0m\u001b[1;33m\u001b[0m\u001b[0m\n",
      "\u001b[1;32m<ipython-input-5-bdb1a1f50d84>\u001b[0m in \u001b[0;36m<lambda>\u001b[1;34m(x)\u001b[0m\n\u001b[0;32m      1\u001b[0m \u001b[1;31m#Lista uzoraka i list oznaka za strat\u001b[0m\u001b[1;33m\u001b[0m\u001b[1;33m\u001b[0m\u001b[1;33m\u001b[0m\u001b[0m\n\u001b[1;32m----> 2\u001b[1;33m \u001b[0msamples\u001b[0m \u001b[1;33m=\u001b[0m \u001b[0msorted\u001b[0m\u001b[1;33m(\u001b[0m\u001b[0mos\u001b[0m\u001b[1;33m.\u001b[0m\u001b[0mlistdir\u001b[0m\u001b[1;33m(\u001b[0m\u001b[0mpath_HE\u001b[0m\u001b[1;33m)\u001b[0m\u001b[1;33m,\u001b[0m \u001b[0mkey\u001b[0m\u001b[1;33m=\u001b[0m\u001b[1;32mlambda\u001b[0m \u001b[0mx\u001b[0m\u001b[1;33m:\u001b[0m \u001b[0mint\u001b[0m\u001b[1;33m(\u001b[0m\u001b[0mx\u001b[0m\u001b[1;33m.\u001b[0m\u001b[0msplit\u001b[0m\u001b[1;33m(\u001b[0m\u001b[1;34m\"_\"\u001b[0m\u001b[1;33m)\u001b[0m\u001b[1;33m[\u001b[0m\u001b[1;36m0\u001b[0m\u001b[1;33m]\u001b[0m\u001b[1;33m)\u001b[0m\u001b[1;33m)\u001b[0m \u001b[1;31m#trik da budu sortirani prema broju uzorka\u001b[0m\u001b[1;33m\u001b[0m\u001b[1;33m\u001b[0m\u001b[0m\n\u001b[0m\u001b[0;32m      3\u001b[0m \u001b[0mstratum_labels\u001b[0m \u001b[1;33m=\u001b[0m \u001b[1;33m[\u001b[0m\u001b[0msample\u001b[0m\u001b[1;33m.\u001b[0m\u001b[0msplit\u001b[0m\u001b[1;33m(\u001b[0m\u001b[1;34m\"_\"\u001b[0m\u001b[1;33m,\u001b[0m \u001b[0mmaxsplit\u001b[0m\u001b[1;33m=\u001b[0m\u001b[1;36m3\u001b[0m\u001b[1;33m)\u001b[0m\u001b[1;33m[\u001b[0m\u001b[1;36m3\u001b[0m\u001b[1;33m]\u001b[0m \u001b[1;32mfor\u001b[0m \u001b[0msample\u001b[0m \u001b[1;32min\u001b[0m \u001b[0msamples\u001b[0m\u001b[1;33m]\u001b[0m \u001b[1;31m#oznaka prema kojoj se radi stratifikacija npr. \"O1_T1\"\u001b[0m\u001b[1;33m\u001b[0m\u001b[1;33m\u001b[0m\u001b[0m\n\u001b[0;32m      4\u001b[0m \u001b[1;31m#len(samples), len(stratum_labels)\u001b[0m\u001b[1;33m\u001b[0m\u001b[1;33m\u001b[0m\u001b[1;33m\u001b[0m\u001b[0m\n\u001b[0;32m      5\u001b[0m \u001b[1;31m#len(np.unique(stratum_labels)) == 12 #Provjeri da li imaš 12 slojeva (4 operatera x 3 tipa proizvoda)\u001b[0m\u001b[1;33m\u001b[0m\u001b[1;33m\u001b[0m\u001b[1;33m\u001b[0m\u001b[0m\n",
      "\u001b[1;31mValueError\u001b[0m: invalid literal for int() with base 10: 'test'"
     ]
    }
   ],
   "source": [
    "#Lista uzoraka i list oznaka za strat\n",
    "samples = sorted(os.listdir(path_HE), key=lambda x: int(x.split(\"_\")[0])) #trik da budu sortirani prema broju uzorka\n",
    "stratum_labels = [sample.split(\"_\", maxsplit=3)[3] for sample in samples] #oznaka prema kojoj se radi stratifikacija npr. \"O1_T1\"\n",
    "#len(samples), len(stratum_labels)\n",
    "#len(np.unique(stratum_labels)) == 12 #Provjeri da li imaš 12 slojeva (4 operatera x 3 tipa proizvoda)\n",
    "\n",
    "#Funkcija za izvlačenja udjela slojeva u uzorku\n",
    "def stratum_counter(strat):\n",
    "    '''Iz liste oznaka slojeva za svako opažanje u uzorku\n",
    "    izračunava količinu i udio svakog sloja u uzorku\n",
    "    \n",
    "    Argumenti\n",
    "    ---------\n",
    "    strat : list\n",
    "    Lista oznaka slojeva svakog opažanja unutar uzorka.\n",
    "    \n",
    "    Povratna vrijednost\n",
    "    -------------------\n",
    "    stratum_count: list\n",
    "    Lista količina i udjela pojedinog sloja u uzorku\n",
    "    \n",
    "    '''\n",
    "    counted_values = sorted(Counter(strat).items())\n",
    "    total_samples = len(strat)\n",
    "    stratum_count = [f'Sloj: {key} => count: {value} , perc: {(value/total_samples)*100:.2f}%' \n",
    "                 for key, value in counted_values]\n",
    "    \n",
    "    return stratum_count\n",
    "\n",
    "#Koliko kojege sloja je prisutno u uzorku\n",
    "sample_stratum_count = stratum_counter(stratum_labels)\n",
    "sample_stratum_count"
   ]
  },
  {
   "cell_type": "markdown",
   "metadata": {},
   "source": [
    "Uzorak će biti podjeljen na slijedeći način:\n",
    "* **480** opažanja u skupu za učenje\n",
    "* **70** opažanja u skupu za validaciju\n",
    "* **70** opažanja u skupu za testiranje\n",
    "\n",
    "U ovom dijelu skripte radimo samo sa `Video_ID` oznakama uzoraka, kasnije ćemo podjeliti video zapise i njihove oznake."
   ]
  },
  {
   "cell_type": "code",
   "execution_count": 5,
   "metadata": {},
   "outputs": [
    {
     "data": {
      "text/plain": [
       "(550, 70)"
      ]
     },
     "execution_count": 5,
     "metadata": {},
     "output_type": "execute_result"
    }
   ],
   "source": [
    "#Podjela u skup za učenje_validaciju i testiranje\n",
    "x_train_val, x_test = train_test_split(samples, test_size=70, random_state=42, stratify=stratum_labels)\n",
    "len(x_train_val), len(x_test)"
   ]
  },
  {
   "cell_type": "code",
   "execution_count": 6,
   "metadata": {},
   "outputs": [
    {
     "name": "stdout",
     "output_type": "stream",
     "text": [
      "Oznaka: Uzorak: Train_val: Test:\n",
      "------- ------- ---------- -----\n",
      "O1_T1  8.06%  8.00%  8.57%\n",
      "O1_T2  11.45%  11.45%  11.43%\n",
      "O1_T3  10.81%  10.73%  11.43%\n",
      "O2_T1  8.06%  8.00%  8.57%\n",
      "O2_T2  7.90%  8.00%  7.14%\n",
      "O2_T3  8.06%  8.00%  8.57%\n",
      "O3_T1  7.74%  7.82%  7.14%\n",
      "O3_T2  7.90%  8.00%  7.14%\n",
      "O3_T3  7.26%  7.27%  7.14%\n",
      "O4_T1  8.06%  8.00%  8.57%\n",
      "O4_T2  7.74%  7.82%  7.14%\n",
      "O4_T3  6.94%  6.91%  7.14%\n"
     ]
    }
   ],
   "source": [
    "#Ispitivanje udjela slojeva u skupu za učenje_validaciju i testiranje\n",
    "\n",
    "#Oznake slojeva u train_val i test skupu\n",
    "train_val_strata = [sample.split(\"_\", maxsplit=3)[3] for sample in x_train_val]\n",
    "test_strata = [sample.split(\"_\", maxsplit=3)[3] for sample in x_test]\n",
    "\n",
    "#Koliko kojeg sloja ima u train_val i test skupu\n",
    "train_val_count = stratum_counter(train_val_strata)\n",
    "test_count = stratum_counter(test_strata)\n",
    "\n",
    "#Usporedba udjela pojedinog sloja\n",
    "print(\"Oznaka:\",\"Uzorak:\", \"Train_val:\", \"Test:\")\n",
    "print(len(\"Oznaka:\") * \"-\", len(\"Uzorak:\") * \"-\", len(\"Train_val:\") * \"-\", len(\"Test:\") * \"-\")\n",
    "for label, kontrola, train, test in zip(np.unique(stratum_labels), sample_stratum_count, train_val_count, test_count):\n",
    "    print(label, kontrola.split(\":\")[-1], train.split(\":\")[-1], test.split(\":\")[-1])"
   ]
  },
  {
   "cell_type": "code",
   "execution_count": 8,
   "metadata": {},
   "outputs": [
    {
     "data": {
      "text/plain": [
       "(480, 70)"
      ]
     },
     "execution_count": 8,
     "metadata": {},
     "output_type": "execute_result"
    }
   ],
   "source": [
    "#Podjela skupa za učenje na skup za učenje i validaciju\n",
    "x_train, x_val = train_test_split(x_train_val, test_size=70, random_state=42, stratify=train_val_strata)\n",
    "len(x_train), len(x_val)"
   ]
  },
  {
   "cell_type": "code",
   "execution_count": 9,
   "metadata": {},
   "outputs": [
    {
     "name": "stdout",
     "output_type": "stream",
     "text": [
      "Oznaka: Uzorak: Train: Val:\n",
      "------- ------- ------ ----\n",
      "O1_T1  8.06%  8.12%  7.14%\n",
      "O1_T2  11.45%  11.46%  11.43%\n",
      "O1_T3  10.81%  10.83%  10.00%\n",
      "O2_T1  8.06%  7.92%  8.57%\n",
      "O2_T2  7.90%  7.92%  8.57%\n",
      "O2_T3  8.06%  7.92%  8.57%\n",
      "O3_T1  7.74%  7.92%  7.14%\n",
      "O3_T2  7.90%  7.92%  8.57%\n",
      "O3_T3  7.26%  7.29%  7.14%\n",
      "O4_T1  8.06%  7.92%  8.57%\n",
      "O4_T2  7.74%  7.92%  7.14%\n",
      "O4_T3  6.94%  6.88%  7.14%\n"
     ]
    }
   ],
   "source": [
    "#Oznake slojeva u train i val skup\n",
    "train_strata = [sample.split(\"_\", maxsplit=3)[3] for sample in x_train]\n",
    "val_strata = [sample.split(\"_\", maxsplit=3)[3] for sample in x_val]\n",
    "\n",
    "#Koliko kojeg sloja ima u train i val skupu\n",
    "train_count = stratum_counter(train_strata)\n",
    "val_count = stratum_counter(val_strata)\n",
    "\n",
    "#Usporedba\n",
    "print(\"Oznaka:\",\"Uzorak:\", \"Train:\", \"Val:\")\n",
    "print(len(\"Oznaka:\") * \"-\", len(\"Uzorak:\") * \"-\", len(\"Train:\") * \"-\", len(\"Val:\") * \"-\")\n",
    "for label, kontrola, train, val in zip(np.unique(stratum_labels), sample_stratum_count, train_count, val_count):\n",
    "    print(label, kontrola.split(\":\")[-1], train.split(\":\")[-1], val.split(\":\")[-1])"
   ]
  },
  {
   "cell_type": "markdown",
   "metadata": {},
   "source": [
    "### 2. Pregled opasnih opažanja"
   ]
  },
  {
   "cell_type": "markdown",
   "metadata": {},
   "source": [
    "Ovo su vizualno totalno različita opažanja od uobičajenih stoga sada analiziram koliko je takvih u validacijskom i test skupu."
   ]
  },
  {
   "cell_type": "code",
   "execution_count": 10,
   "metadata": {},
   "outputs": [
    {
     "data": {
      "text/plain": [
       "(array([525, 558, 573, 576]), array([301, 513, 577]))"
      ]
     },
     "execution_count": 10,
     "metadata": {},
     "output_type": "execute_result"
    }
   ],
   "source": [
    "danger_data = np.array([287, 288, 328, 301, 304, \n",
    "                      308, 312, 313, 327, 513, \n",
    "                      518, 523, 525, 549, 517, \n",
    "                      571, 544, 557, 558, 570,\n",
    "                      572, 573, 574, 575, 576,\n",
    "                      577, 578, 579]) #28 ovakvih opažanja sva pripadaju O3 operateru\n",
    "\n",
    "val_samples = [int(sample.split(\"_\")[0]) for sample in x_val]\n",
    "test_samples = [int(sample.split(\"_\")[0]) for sample in x_test]\n",
    "\n",
    "val_danger = [sample in val_samples for sample in danger_data]\n",
    "test_danger = [sample in test_samples for sample in danger_data]\n",
    "\n",
    "#Koja su to opažanja \n",
    "danger_data[val_danger], danger_data[test_danger]"
   ]
  },
  {
   "cell_type": "markdown",
   "metadata": {},
   "source": [
    "**Zaključak:** 4 složena opažanja u validacijskom setu, a 3 složena u skupu za testiranje. "
   ]
  },
  {
   "cell_type": "markdown",
   "metadata": {},
   "source": [
    "### 3. Kreiranje poddirektorija \"train\", \"val\" i \"test\" za \"Uzorak_slika\""
   ]
  },
  {
   "cell_type": "code",
   "execution_count": 11,
   "metadata": {},
   "outputs": [],
   "source": [
    "#Prebacivanje uzoraka iz direktorija \"Uzorak_slika\", u odgovarajuće poddirektorije \"train\", \"val\", \"test\"\n",
    "#Polazne lokacije\n",
    "slike_path = \"C:/Users/Public/Uzorak_slika\"\n",
    "slike_subdirs = os.listdir(slike_path)\n",
    "\n",
    "#Nazivi poddirektorija odredišnih lokacija\n",
    "dest_loc = [\"train\", \"val\", \"test\"]\n",
    "#Uzorci koje je potrebno rasporediti\n",
    "data_splits = [x_train, x_val, x_test]\n",
    "\n",
    "#Petlja po poddiretkorijima unutar datoteke \"Uzorak_slika\"\n",
    "for subdir in slike_subdirs:\n",
    "    #Istodobna petlja po nazivu odredišnog poddiretkorija i po listi koja kao podliste sadrži oznake videa podjeljenih u tri skupa\n",
    "    for dest, split in zip(dest_loc, data_splits):\n",
    "        #Kreiranje putanje do odredišnog direktorija\n",
    "        dest_path = os.path.join(slike_path, subdir, dest) \n",
    "        if not os.path.exists(dest_path):\n",
    "            os.mkdir(dest_path)\n",
    "        #Petlja po polaznim datotekama i njihovo pomicanje na odredišni direktorij\n",
    "        for path in split:\n",
    "            src_path = os.path.join(slike_path, subdir, path)\n",
    "            shutil.move(src_path, dest_path)\n",
    "            #os.remove(src_path) Ovo netreba jer ne radi kopiju već pomak"
   ]
  },
  {
   "cell_type": "markdown",
   "metadata": {},
   "source": [
    "Nakon što su opažanja za svaki kadar podjeljena u tri skupa, ovo isto je potrebno napraviti i za svaku oznaku."
   ]
  },
  {
   "cell_type": "code",
   "execution_count": 12,
   "metadata": {},
   "outputs": [],
   "source": [
    "#Razbijanje .txt sa oznakama na posebne fajlove za učenje, test, validaciju - OVO pokreni tek kad je gotovo označavanje!!!\n",
    "label_names = ['train_labels', 'val_labels', 'test_labels']\n",
    "data_splits = [x_train, x_val, x_test]\n",
    "\n",
    "#Petlja po imenima datoteka oznaka i po nazivima opažanja u 3 skupa podataka\n",
    "for label_name, data_split in zip(label_names, data_splits):\n",
    "    #Otvori datoteku u koju češ zapisivati\n",
    "    with open(f\"C:/Users/Public/Labels/{label_name}.txt\", \"w\") as labels:\n",
    "        labels.write(\"Video_ID,Activity_ID,Activity_name,Start_time,End_time,Start_frame,End_frame\\n\")\n",
    "        #Učitavaj jednu po jednu liniju (skalabilno rješenje, bolje nego odjednom učitati cijelu datoteku) \n",
    "        #iz datoteke iz koje prebacuješ - automatski će biti zatvoreno jer je isto u with kontekstu\n",
    "        for line in open(\"C:/Users/Public/Labels/labels_all.txt\", \"r\"):\n",
    "            #Zapiši samo ona opažanja koja su u odgovarajućoj podjeli podataka (npr. samo one koji su u trening skupu)\n",
    "            if line.split(\",\")[0] in data_split:\n",
    "                labels.write(line)\n",
    "                "
   ]
  },
  {
   "cell_type": "code",
   "execution_count": 13,
   "metadata": {},
   "outputs": [],
   "source": [
    "#Još finija podjela - ako će biti potrebno, svaka oznaka opažanja u svoj fajl - Ovo pokreni tek kada je gotovo označavanje!!!\n",
    "label_names = ['train_labels', 'val_labels', 'test_labels']\n",
    "split_dirs = ['train', 'val', 'test']\n",
    "data_splits = [x_train, x_val, x_test]\n",
    "\n",
    "#Petlja po tri liste\n",
    "for label_name, split_dir, data_split in zip(label_names, split_dirs, data_splits):\n",
    "    #Za svako opažanje iz pojedine podjele podataka\n",
    "    for sample in data_split:\n",
    "        #Otvori datoteku za svako opažanje u koju češ zapisivati\n",
    "        with open(f\"C:/Users/Public/Labels/{split_dir}/{sample}.txt\", \"w\") as labels:\n",
    "            labels.write(\"Video_ID,Activity_ID,Activity_name,Start_time,End_time,Start_frame,End_frame\\n\")\n",
    "            #Provjeri da li je opažanje u datoteci iz koje prebacuješ - više linija sadrži oznake istog opažanja\n",
    "            for line in open(f\"C:/Users/Public/Labels/{label_name}.txt\", \"r\"):\n",
    "                if line.split(\",\")[0] in sample:\n",
    "                    labels.write(line)"
   ]
  },
  {
   "cell_type": "code",
   "execution_count": 9,
   "metadata": {},
   "outputs": [],
   "source": [
    "##Kreiranje oznaka za svaku pojedinačnu sličicu\n",
    "\n",
    "#Putanje do uzoraka u jednom od kadrova\n",
    "samples_path = \"C:/Users/Public/Uzorak_slika/HE\"\n",
    "\n",
    "#Labels path\n",
    "labels_path = 'C:/Users/Public/Labels'\n",
    "\n",
    "#Oznake poddirektorija iz kojih se kreiraju nove oznake\n",
    "data_splits = [\"train\", \"val\", \"test\"]\n",
    "\n",
    "#Nazivi poddirektorija odredišnih lokacija oznaka\n",
    "dest_loc = [\"train_all\", \"val_all\", \"test_all\"]\n",
    "\n",
    "#Funkcija za izvlačenje riječnika sa oznakom uzoraka te brojem slika u uzorku\n",
    "def samp_size2dict(samples_path):\n",
    "    '''Iz direktorija sa uzorcima izvlači broj slika u uzorku, pri čemu\n",
    "    dokument mora biti formatiran prema naputcima.\n",
    "    \n",
    "    Argumenti\n",
    "    ---------\n",
    "    samples_path : Apsolutna putanja do direktorija sa uzorcima\n",
    "    \n",
    "    Povratna vrijednost\n",
    "    -------------------\n",
    "    size_dict: dict\n",
    "    Riječnik koji za ključ ima oznaku uzorka, a za vrijednosti broj sličica\n",
    "    \n",
    "    '''\n",
    "    size_dict = {sample: len(os.listdir(os.path.join(samples_path, sample))) for sample in os.listdir(samples_path)}\n",
    "    \n",
    "    return size_dict\n",
    "\n",
    "#Funkcija za izvlačenje riječnika sa oznakom aktivnosti te početnim i završnim frejmom\n",
    "def labs2dict(label_path):\n",
    "    '''Iz csv dokumenta izvlači oznake aktivnosti, te početnu i \n",
    "    završnu sličicu aktivnosti, pri čemu dokument mora biti formatiran\n",
    "    prema naputcima.\n",
    "    \n",
    "    Argumenti\n",
    "    ---------\n",
    "    label_path : Apsolutna putanja do csv dokumenta sa oznakama aktivnosti\n",
    "    \n",
    "    Povratna vrijednost\n",
    "    -------------------\n",
    "    lab_dict: dict\n",
    "    Riječnik koji za ključ ima oznaku aktivnosti u obliku stringa, a za vrijednosti tuple(start_frame, end_frame)\n",
    "    \n",
    "    '''\n",
    "    labels = pd.read_csv(label_path, header=0)\n",
    "    lab_dict = {str(row[1]): (row[5], row[6]) for row in labels.values}\n",
    "    \n",
    "    return lab_dict\n",
    "\n",
    "#Petlja po podjelama podataka i odredišnim lokacijama\n",
    "for split, dest in zip(data_splits, dest_loc):\n",
    "    #Putanja do oznaka u pojedinoj podjeli podataka\n",
    "    labs_split_path = os.path.join(labels_path, split)\n",
    "    #Izvlačenje broja slika po uzorcima u pojedinim podjelima podataka\n",
    "    samp_split_path = os.path.join(samples_path, split)\n",
    "    sample_sizes = samp_size2dict(samp_split_path)\n",
    "    #Petlja po riječniku sa nazivima i veličinama uzorka\n",
    "    for ime_uzorka, broj_slika in sample_sizes.items():\n",
    "        #Izvlačenja riječnika sa oznakama aktivnosti i početnom i krajnjom sličicom\n",
    "        labs_path = os.path.join(labs_split_path, f'{ime_uzorka}.txt')\n",
    "        lab_dict = labs2dict(labs_path)\n",
    "        #Za svaku sličicu promatranog uzorka daj oznaku s obzirom oznaku početka i kraja aktivnosti\n",
    "        labels_list = []\n",
    "        #Petlja po sličicam u uzroku\n",
    "        for slika in range(1, broj_slika + 1):\n",
    "            slika_oznaka = \"0\" #Oznaka pozadine je \"0\" \n",
    "            #Petlja po oznakama aktivnosti te oznakama početne i krajnje sličice aktivnosti\n",
    "            for oznaka_act, raspon in lab_dict.items():\n",
    "                #ako je broj sličice unutar raspona trajanja aktivnosti \n",
    "                #daj joj tu oznaku aktivnosti, inače ostaje 0 (oznaka pozadine)\n",
    "                if raspon[0] <= slika <= raspon[1]:\n",
    "                    slika_oznaka = oznaka_act\n",
    "            #Dodaj oznaku promatranoj sličici unutar uzorka\n",
    "            labels_list.append(slika_oznaka)\n",
    "        #Zbog lakše učitavanja listu formatiram kao string\n",
    "        labels_str = \",\".join(labels_list)\n",
    "        #Zapiši ovako označen uzorak (po svakoj sličici)\n",
    "        with open(f'{os.path.join(labels_path, dest, ime_uzorka)}.txt', 'w') as label:\n",
    "            label.write(f'{ime_uzorka},{labels_str}')\n",
    "        "
   ]
  },
  {
   "cell_type": "code",
   "execution_count": 10,
   "metadata": {},
   "outputs": [],
   "source": [
    "#Testiranje oznaka\n",
    "\n",
    "#Putanja do trening oznaka po sličicama\n",
    "frame_labs_path = 'C:/Users/Public/Labels/train_all'\n",
    "labels_name= os.listdir(frame_labs_path)\n",
    "\n",
    "labels = {}\n",
    "for label in labels_name[:2]:\n",
    "    with open(os.path.join(frame_labs_path, label)) as label:\n",
    "        lab_elements = label.readline().split(\",\", maxsplit=1)\n",
    "        video_id = lab_elements[0]\n",
    "        frame_labs = lab_elements[1].split(\",\")\n",
    "        frame_labs = [int(lab) for lab in frame_labs]\n",
    "        labels[video_id] = frame_labs"
   ]
  }
 ],
 "metadata": {
  "kernelspec": {
   "display_name": "Python 3",
   "language": "python",
   "name": "python3"
  },
  "language_info": {
   "codemirror_mode": {
    "name": "ipython",
    "version": 3
   },
   "file_extension": ".py",
   "mimetype": "text/x-python",
   "name": "python",
   "nbconvert_exporter": "python",
   "pygments_lexer": "ipython3",
   "version": "3.8.3"
  }
 },
 "nbformat": 4,
 "nbformat_minor": 4
}
