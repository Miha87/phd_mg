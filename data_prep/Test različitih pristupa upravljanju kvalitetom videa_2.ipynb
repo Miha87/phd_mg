{
 "cells": [
  {
   "cell_type": "code",
   "execution_count": 21,
   "metadata": {},
   "outputs": [],
   "source": [
    "import os\n",
    "import subprocess\n",
    "import cv2\n",
    "import numpy as np"
   ]
  },
  {
   "cell_type": "markdown",
   "metadata": {},
   "source": [
    "## Stope upravljanja kvalitetom - \"rate control\""
   ]
  },
  {
   "cell_type": "markdown",
   "metadata": {},
   "source": [
    "Osnovni termini:\n",
    "* rate control - je aktivnost koju provodi video enkoder kada treba odlučiti koliko bitova uložiti na reprezentiranje određene sličice. Kod \"manjkavog\" (eng. lossy) kodiranja cilj je uštedjeti bitove (smanjiti veličinu datoteke), uz zadržavanja što više razine kvalitete. Na temelju ove aktivnosti definiran je omjer veličine i kvalitet. Zato je kvantizacijski parametar niži kod sličica više kvalitete (*veličina/kvaliteta*). \n",
    "* bitrate - omjer veličine video zapisa i njegovog trajanja - dva video zapisa iste duljine imaju različitu kvalitetu, ako jedan od njih ima viši bitrate\n",
    "* macroblock - skupina pixela (npr. 16x16, 8x8, 4x4) koja je transformirana na temelju matematičkih funkcija prilikom upravljanja kvalitetom - tj. ti blokovi su zajedno komprimirani. Zato se kod jako komprimiranih video zapisa na sličicama vide \"blokovi\" (aka. \"kvadratići\")\n",
    "* codec - je kratica za encoder/decoder - podatci generirani enkoderom(aka. kodirani podatci) uvijek mogu biti dekodirani odgovarajućim dekoderom. Obično su definirani odgovarajućim standardom (npr. H.264) koji kaže koji je format \"bitstream\"-a (sirovi podatci aka 0 i 1) kojeg daje enkoder. Koraci su: 1) enkoder prima video sličice i generira bitstream koji zadovoljava standard propisan codecom, 2) bitstream se zatim stavlja u \"kontejner\" (aka. format poput .mp4, .avi itd), koji je ništa drugo nego datoteka koja u sebi sadrži video i audio sirove podatke te ih sinkronizira. I sam kontejner(aka format) je također bitstream 3) dekoder preuzima bitstream u propisanom formatu i rekonstruira sličice. Stvari koje bune ljude su to da se npr. MPEG može odnositi i na codec (tj. standard) i na kontejner .mpeg.\n",
    "* **libx264** je biblioteka koja implementira kodiranje, dekodiranja i transkodiranje video stream-ova (npr. iz jednog formata u drugi:.avi u .mp4) prema standardu *AVC/H.264/MPEG-4* \n",
    "* **ffmpeg** je softver koji koristim da bi radio manipulacije na video zapisima, te u sebi sadrži veći broj biblioteka poput libx264, libx265 itd.\n",
    "\n",
    "Modovi upravljanja kvalitetom zapisa:\n",
    "\n",
    "*Konstantna kvaliteta/varijabilni bitrate*\n",
    "\n",
    "* **CRF** (\"constant rate factor\") - (0 - 51, niže je bolja kvaliteta tj. manja kompresija) - pokušava održati konstantnu kvalitetu kroz cijeli video zapis varirajući razinu kompresije. Ovdje se kvaliteta odnosi na ono što percipira ljudsko oko, a ne na kvalitetu izraženu mat. funkcijom. Stoga je razina kompresije veća kod sličica sa većom količinom akcije jer će kod takvih sličica ljudsko oko manje uočiti detalje, dok će kompresija biti manja kod \"mirnih\" sličica jer ovdje imamo više vremena uočiti razne detalje. Tehničkim rječnikom kvantizacijski parametar **QP** će biti niži kod mirnijih sličica, a viši kod sličica punih akcije. Kod primjene ovog moda **bitrate** može znatno varirati između zapisa iste duljine trajanja ovisno o sadržaju videa. Ako je CRF postavljen na 0 tada nema kompresije - \"lossless\" kodiranje. Većina codeca ovakava zapis ne može pročitati (N.B. ffmpeg može).\n",
    "\n",
    "* **CQP** (\"constant quantization parameter\") - (0- 51, niže je bolja kvaliteta tj. manja kompresija) - svaka sličica komprimirana je na isti način, bez obzira na sadržaj. Zbog toga je ovdje kvaliteta svake sličice matematički ista, ali je moguće da je ljudsko oko različito percipira. Kvantizacijski parametar definira koliko bitova informacije ćemo izbaciti u određenom makrobloku, npr. ako je qp = 0 (\"lossless\") tada ne izbacujemo ništa, ali je datoteka velika. Također zbog toga **bitrate** jako varira.\n",
    "\n",
    "*Konstantni bitrate* - CBR\n",
    "\n",
    "* ovaj pristup ima smisla kada je bitno zadržati bitrate istim npr. ako imamo namjeru raditi stream na YouTube, pa si ne možemo dozvoliti \"peak\"-ove kod bitrate-a.\n",
    "* ja sam koristio ovaj mod kod kodiranja \"Ulazni_video\" na svim zapisima uz bitrate = 2500. Iz razloga što su svi zapisi iste duljine, ovo osigurava i istu kvalitetu.\n",
    "* ovaj mod je inače rasipan po pitanju veličine datoteke posebice ako postoje sličice koje je jednostavno kodirati, pa ne trebaju visok bitrate."
   ]
  },
  {
   "cell_type": "code",
   "execution_count": 146,
   "metadata": {},
   "outputs": [],
   "source": [
    "#Modovi upravljanja kvalitetom\n",
    "#opcija koja kod ffmpeg-a za H.264 codec, osigurava istu kvalitetu, \n",
    "#ali utječe ne veličinu datoteke: sporo kodiranje => manja veličina\n",
    "preset = \"veryslow\"  "
   ]
  },
  {
   "cell_type": "code",
   "execution_count": 143,
   "metadata": {},
   "outputs": [],
   "source": [
    "path_to_video = \"C:/Users/Public/V1.mp4\"\n",
    "out_dir = \"C:/Users/Public\"\n",
    "out_file = \"cut.mp4\""
   ]
  },
  {
   "cell_type": "markdown",
   "metadata": {},
   "source": [
    "## 1. Zaključak:\n",
    "Kod izrezivanja segmenata najbolje je koristit kopiranje bez re-kodiranja, jer je najbrže i kvaliteta ulaza ostaje. Iako je originalnom video dodano ispred i iza nekoliko crnih sličica, kod pretvorbe videa u sliku, te slike ffmpeg odbacuje."
   ]
  },
  {
   "cell_type": "code",
   "execution_count": 145,
   "metadata": {},
   "outputs": [],
   "source": [
    "#Kopiranja kod izrezivanja, a ne re-kodiranje\n",
    "def video_to_segment_kopiranje(path_to_video, output_dir, output_file, start_point, duration):    \n",
    "    with open(os.devnull, 'w') as ffmpeg_log: #os.devnull služi za prikupljanje svih printova i njegovo odbacivanje\n",
    "        if not os.path.exists(output_dir):\n",
    "            os.makedirs(output_dir)\n",
    "        ffmpeg_call = [\"ffmpeg\",            \n",
    "                       \"-ss\", start_point,  \n",
    "                       \"-i\", path_to_video, \n",
    "                       \"-t\", duration,      \n",
    "                       \"-c:v\", \"copy\",   #definiramo samo kopiranje      \n",
    "                       f\"{output_dir}/{output_file}\"]  \n",
    "        subprocess.call(ffmpeg_call, stdout=ffmpeg_log, stderr=ffmpeg_log) \n",
    "        "
   ]
  },
  {
   "cell_type": "code",
   "execution_count": 88,
   "metadata": {},
   "outputs": [],
   "source": [
    "#Dekodiranje i izrezivanje uz CRF = 1\n",
    "def video_to_segment_kopiranje_crf_1(path_to_video, output_dir, output_file, start_point, duration):    \n",
    "    with open(os.devnull, 'w') as ffmpeg_log: #os.devnull služi za prikupljanje svih printova i njegovo odbacivanje\n",
    "        if not os.path.exists(output_dir):\n",
    "            os.makedirs(output_dir)\n",
    "        ffmpeg_call = [\"ffmpeg\",            \n",
    "                       \"-ss\", start_point,  \n",
    "                       \"-i\", path_to_video, \n",
    "                       \"-t\", duration,      \n",
    "                       \"-crf\", \"1\",   #ovdje radimo ponovno kodiranje    \n",
    "                       f\"{output_dir}/{output_file}\"]  \n",
    "        subprocess.call(ffmpeg_call, stdout=ffmpeg_log, stderr=ffmpeg_log) "
   ]
  },
  {
   "cell_type": "code",
   "execution_count": 95,
   "metadata": {},
   "outputs": [],
   "source": [
    "#Dekodiranje i izrezivanje uz CRF = 0\n",
    "def video_to_segment_kopiranje_crf_0(path_to_video, output_dir, output_file, start_point, duration):    \n",
    "    with open(os.devnull, 'w') as ffmpeg_log: #os.devnull služi za prikupljanje svih printova i njegovo odbacivanje\n",
    "        if not os.path.exists(output_dir):\n",
    "            os.makedirs(output_dir)\n",
    "        ffmpeg_call = [\"ffmpeg\",            \n",
    "                       \"-ss\", start_point,  \n",
    "                       \"-i\", path_to_video, \n",
    "                       \"-t\", duration,      \n",
    "                       \"-crf\", \"0\",   #ovdje radimo ponovno kodiranje     \n",
    "                       f\"{output_dir}/{output_file}\"]  \n",
    "        subprocess.call(ffmpeg_call, stdout=ffmpeg_log, stderr=ffmpeg_log) "
   ]
  },
  {
   "cell_type": "code",
   "execution_count": 125,
   "metadata": {},
   "outputs": [],
   "source": [
    "video_to_segment_kopiranje(path_to_video_2, out_dir, out_file3, \"9:18\", \"0:54\")"
   ]
  },
  {
   "cell_type": "code",
   "execution_count": 89,
   "metadata": {},
   "outputs": [],
   "source": [
    "video_to_segment_kopiranje_crf_1(path_to_video, out_dir, out_file, \"9:18\", \"0:54\")"
   ]
  },
  {
   "cell_type": "code",
   "execution_count": 96,
   "metadata": {},
   "outputs": [],
   "source": [
    "video_to_segment_kopiranje_crf_0(path_to_video, out_dir, out_file, \"9:18\", \"0:54\")"
   ]
  },
  {
   "cell_type": "code",
   "execution_count": 144,
   "metadata": {},
   "outputs": [],
   "source": [
    "cut_path = \"C:/Users/Public/cut3.mp4\"\n",
    "out_image = \"C:/Users/Public/Slike\"\n",
    "image_res = \"320:192\"\n",
    "fps=5"
   ]
  },
  {
   "cell_type": "markdown",
   "metadata": {},
   "source": [
    "## 2. Zaključak\n",
    "Kod pretvorbe videa u sliku, potrebno je definirati -qscale, qmin i qmax - kvantizacijski parametri kvalitete, niže je bolje, 1 je najbolje."
   ]
  },
  {
   "cell_type": "code",
   "execution_count": 112,
   "metadata": {},
   "outputs": [],
   "source": [
    "def video_to_image_qs_1(path_to_video, output_dir, image_res, fps):\n",
    "    with open(os.devnull, 'w') as ffmpeg_log: #os.devnull služi za prikupljanje svih printova i njegovo odbacivanje\n",
    "        if not os.path.exists(output_dir):\n",
    "            os.makedirs(output_dir)\n",
    "        ffmpeg_call = [\"ffmpeg\",            \n",
    "                       \"-i\", path_to_video, \n",
    "                       \"-vf\", f\"scale={image_res}\", \n",
    "                       \"-qscale:v\", \"1\",    \n",
    "                       \"-qmin\", \"1\",         \n",
    "                       \"-qmax\", \"1\",        \n",
    "                       \"-r\", f\"{fps}\",     \n",
    "                       f\"{output_dir}/slika-%04d.jpeg\"] \n",
    "        subprocess.call(ffmpeg_call, stdout=ffmpeg_log, stderr=ffmpeg_log) "
   ]
  },
  {
   "cell_type": "code",
   "execution_count": 151,
   "metadata": {},
   "outputs": [],
   "source": [
    "video_to_image_qs_1(cut_path, out_image, image_res, fps)"
   ]
  },
  {
   "cell_type": "markdown",
   "metadata": {},
   "source": [
    "## Analiza ponašanja piksela između slika"
   ]
  },
  {
   "cell_type": "code",
   "execution_count": 152,
   "metadata": {},
   "outputs": [],
   "source": [
    "p1 = \"C:/Users/Public/Slike/slika-0001.jpeg\"\n",
    "p2 = \"C:/Users/Public/Slike/slika-0002.jpeg\"\n",
    "p3 = \"C:/Users/Public/Slike/slika-0003.jpeg\"\n",
    "\n",
    "p4 = \"C:/Users/Public/Slike/slika-0082.jpeg\"\n",
    "p5 = \"C:/Users/Public/Slike/slika-0083.jpeg\"\n",
    "p6 = \"C:/Users/Public/Slike/slika-0084.jpeg\"\n",
    "\n",
    "s1 = cv2.imread(p1)\n",
    "s2 = cv2.imread(p2)\n",
    "s3 = cv2.imread(p3)\n",
    "\n",
    "s4 = cv2.imread(p4)\n",
    "s5 = cv2.imread(p5)\n",
    "s6 = cv2.imread(p6)"
   ]
  },
  {
   "cell_type": "markdown",
   "metadata": {},
   "source": [
    "1 - kopiranje slika"
   ]
  },
  {
   "cell_type": "code",
   "execution_count": 86,
   "metadata": {},
   "outputs": [
    {
     "data": {
      "text/plain": [
       "(80886, 62703, 56979)"
      ]
     },
     "execution_count": 86,
     "metadata": {},
     "output_type": "execute_result"
    }
   ],
   "source": [
    "np.sum(s1 == s2), np.sum(s2 == s3), np.sum(s3 == s1)"
   ]
  },
  {
   "cell_type": "code",
   "execution_count": 87,
   "metadata": {},
   "outputs": [
    {
     "data": {
      "text/plain": [
       "(44024, 50739, 39534)"
      ]
     },
     "execution_count": 87,
     "metadata": {},
     "output_type": "execute_result"
    }
   ],
   "source": [
    "np.sum(s4 == s5), np.sum(s5 == s6), np.sum(s6 == s4)"
   ]
  },
  {
   "cell_type": "markdown",
   "metadata": {},
   "source": [
    "2 - rekodiranje uz crf = 1"
   ]
  },
  {
   "cell_type": "code",
   "execution_count": 93,
   "metadata": {},
   "outputs": [
    {
     "data": {
      "text/plain": [
       "(85817, 62489, 56799)"
      ]
     },
     "execution_count": 93,
     "metadata": {},
     "output_type": "execute_result"
    }
   ],
   "source": [
    "np.sum(s1 == s2), np.sum(s2 == s3), np.sum(s3 == s1)"
   ]
  },
  {
   "cell_type": "code",
   "execution_count": 94,
   "metadata": {},
   "outputs": [
    {
     "data": {
      "text/plain": [
       "(43600, 50110, 38678)"
      ]
     },
     "execution_count": 94,
     "metadata": {},
     "output_type": "execute_result"
    }
   ],
   "source": [
    "np.sum(s4 == s5), np.sum(s5 == s6), np.sum(s6 == s4)"
   ]
  },
  {
   "cell_type": "markdown",
   "metadata": {},
   "source": [
    "3 - rekodiranje uz crf = 0"
   ]
  },
  {
   "cell_type": "code",
   "execution_count": 101,
   "metadata": {},
   "outputs": [
    {
     "data": {
      "text/plain": [
       "(80886, 62703, 56979)"
      ]
     },
     "execution_count": 101,
     "metadata": {},
     "output_type": "execute_result"
    }
   ],
   "source": [
    "np.sum(s1 == s2), np.sum(s2 == s3), np.sum(s3 == s1)"
   ]
  },
  {
   "cell_type": "code",
   "execution_count": 102,
   "metadata": {},
   "outputs": [
    {
     "data": {
      "text/plain": [
       "(44024, 50739, 39534)"
      ]
     },
     "execution_count": 102,
     "metadata": {},
     "output_type": "execute_result"
    }
   ],
   "source": [
    "np.sum(s4 == s5), np.sum(s5 == s6), np.sum(s6 == s4)"
   ]
  },
  {
   "cell_type": "markdown",
   "metadata": {},
   "source": [
    "4 - uz drugačiji video scale - kopiranje"
   ]
  },
  {
   "cell_type": "code",
   "execution_count": 153,
   "metadata": {},
   "outputs": [
    {
     "data": {
      "text/plain": [
       "(79134, 54896, 49840)"
      ]
     },
     "execution_count": 153,
     "metadata": {},
     "output_type": "execute_result"
    }
   ],
   "source": [
    "np.sum(s1 == s2), np.sum(s2 == s3), np.sum(s3 == s1)"
   ]
  },
  {
   "cell_type": "code",
   "execution_count": 154,
   "metadata": {},
   "outputs": [
    {
     "data": {
      "text/plain": [
       "(51161, 53390, 44400)"
      ]
     },
     "execution_count": 154,
     "metadata": {},
     "output_type": "execute_result"
    }
   ],
   "source": [
    "np.sum(s4 == s5), np.sum(s5 == s6), np.sum(s6 == s4)"
   ]
  },
  {
   "cell_type": "code",
   "execution_count": null,
   "metadata": {},
   "outputs": [],
   "source": []
  }
 ],
 "metadata": {
  "kernelspec": {
   "display_name": "Python 3",
   "language": "python",
   "name": "python3"
  },
  "language_info": {
   "codemirror_mode": {
    "name": "ipython",
    "version": 3
   },
   "file_extension": ".py",
   "mimetype": "text/x-python",
   "name": "python",
   "nbconvert_exporter": "python",
   "pygments_lexer": "ipython3",
   "version": "3.8.5"
  }
 },
 "nbformat": 4,
 "nbformat_minor": 4
}
