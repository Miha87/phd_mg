{
 "cells": [
  {
   "cell_type": "code",
   "execution_count": 141,
   "metadata": {},
   "outputs": [],
   "source": [
    "#Uvoz biblioteka\n",
    "import os\n",
    "import subprocess\n",
    "import pandas as pd\n",
    "import numpy as np\n",
    "from video_editing_utils import images_to_video, video_to_gif "
   ]
  },
  {
   "cell_type": "code",
   "execution_count": 17,
   "metadata": {},
   "outputs": [],
   "source": [
    "#Uvoz potrebnih datoteka\n",
    "all_data = pd.read_excel(\"C:/Users/Public/Labels/labels_all.xlsx\")\n",
    "tip_act_data = pd.read_excel(\"C:/Users/Public/tipical_activities.xlsx\")"
   ]
  },
  {
   "cell_type": "code",
   "execution_count": 153,
   "metadata": {},
   "outputs": [
    {
     "data": {
      "text/plain": [
       "Video_ID       52_D1_V4_O1_T2\n",
       "Activity_ID                 8\n",
       "Start_frame               160\n",
       "End_frame                 180\n",
       "Subject                    O1\n",
       "Name: 465, dtype: object"
      ]
     },
     "execution_count": 153,
     "metadata": {},
     "output_type": "execute_result"
    }
   ],
   "source": [
    "#Odabir relevantnih zapisa\n",
    "bool_mask = np.zeros(len(all_data), dtype=bool)\n",
    "\n",
    "for vid_id, act_id in zip(tip_act_data['Video_ID'], tip_act_data['Activity_ID']):\n",
    "    bool_mask[(all_data.Video_ID == vid_id) & (all_data.Activity_ID == act_id)] = 1 \n",
    "\n",
    "selected_data = all_data.loc[bool_mask, ['Video_ID', 'Activity_ID', 'Start_frame', 'End_frame']]\n",
    "selected_data = selected_data.assign(Subject = lambda x: x['Video_ID'].str.split(\"_\").str[3]) #Ako želiš dobiti oznake operatera\n",
    "#Primjer\n",
    "selected_data.iloc[1]"
   ]
  },
  {
   "cell_type": "code",
   "execution_count": 139,
   "metadata": {},
   "outputs": [],
   "source": [
    "##Pretvorba slika u video##\n",
    "\n",
    "#Putanja do direktorija u kojem su izvučene slike za kadar HE\n",
    "path_images = 'C:/Users/Public/Uzorak_slika/HE'\n",
    "#Izlazni direktorij\n",
    "out_vid_dir = 'C:/Users/Public/Tipical_activities'\n",
    "\n",
    "#Petlja po podatcima o izabranim skupovima slikama\n",
    "for img_data in selected_data.values: #po vrijednostima\n",
    "    #Ekstrakcija potrebnih podataka\n",
    "    img_folder, activity, start_frame, end_frame, subject = img_data \n",
    "    #putanja do odgovarajućeg skupa slika\n",
    "    path = os.path.join(path_images,img_folder)\n",
    "    #Glavna funkcija za kreiranje videa iz skupa slika\n",
    "    images_to_video(path, start_frame, end_frame, output_dir=out_vid_dir, output_file=f\"{activity}_{subject}.mkv\")"
   ]
  },
  {
   "cell_type": "code",
   "execution_count": 143,
   "metadata": {},
   "outputs": [],
   "source": [
    "##Pretvorba videa u gif##\n",
    "\n",
    "#Putanja do direktorija u kojem video zapisi\n",
    "path_videos = 'C:/Users/Public/Tipical_activities'\n",
    "#Izlazni direktorij\n",
    "out_gif_dir = 'C:/Users/Public/Activity_gif'\n",
    "\n",
    "#Petlja po listi videa za pretvorbu u gif\n",
    "for video in os.listdir(path_videos):\n",
    "    path = os.path.join(path_videos, video)\n",
    "    out_file = video.split(\".\")[0] #odbaci .mkv\n",
    "    video_to_gif(path, out_gif_dir, f\"{out_file}.gif\", image_res=\"320x192\", fps=5)"
   ]
  }
 ],
 "metadata": {
  "kernelspec": {
   "display_name": "Python 3",
   "language": "python",
   "name": "python3"
  },
  "language_info": {
   "codemirror_mode": {
    "name": "ipython",
    "version": 3
   },
   "file_extension": ".py",
   "mimetype": "text/x-python",
   "name": "python",
   "nbconvert_exporter": "python",
   "pygments_lexer": "ipython3",
   "version": "3.7.6"
  }
 },
 "nbformat": 4,
 "nbformat_minor": 4
}
