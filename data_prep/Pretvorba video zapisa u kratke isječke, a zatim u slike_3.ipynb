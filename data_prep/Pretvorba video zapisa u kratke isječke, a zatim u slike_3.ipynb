{
 "cells": [
  {
   "cell_type": "markdown",
   "metadata": {},
   "source": [
    "# Priprema video zapisa za analizu "
   ]
  },
  {
   "cell_type": "markdown",
   "metadata": {},
   "source": [
    "## 1. Faza - podešavanja i odabir ulaznih video zapis te definiranje točaka rezanja"
   ]
  },
  {
   "cell_type": "markdown",
   "metadata": {},
   "source": [
    "**Produkti faze:** `Ulaz_video`, `Rezovi_original.xlsx`  \n",
    "\n",
    "Postupak formiranja datoteke `Rezovi_original.xlsx` :\n",
    "\n",
    "U ovom koraku sam izabrao samo one video zapise, iz datoteka `Fine_aktivnosti` i `HE_aktivnosti`, koji\n",
    "su sadržavali aktivnosti sastavljanja proizvoda tipa **T1**, **T2** i **T3**, ostali zapisi su zanemareni.\n",
    "\n",
    "Definirao sam dokument `Rezovi_original.xlsx` u kojem su informacije o točkama rezanja pojedinih videa. Točke rezanja `Start` i `End` odabrane su tako da je u video zapisu koji rezultira rezanjem obuhvaćeno cijelo trajanje radnog ciklus operatera. Razlika između ove dvije točke zabilježena je u koloni `Duration`. Rezovi su ujedno i uzorci za daljnju obradu. \n",
    "\n",
    "Svakom od rezova (aka. uzoraka) pridodane su oznake:\n",
    "* `Uzorak` - oznaka uzorka (#)\n",
    "* `Day_ID` - dan prikupljanja videa (D#) \n",
    "* `Video_ID`- video zapis u danu (V#)\n",
    "* `Subject` - operater koji izvodi aktivnosti (O#) \n",
    "* `Object_type` - tip proizvoda na kojem se radi aktivnost (T#)\n",
    "\n",
    "Iz razloga što video kamera kojom su prikupljani uzorci podržava datoteke maksimalne veličine **3.5 GB**, a uzorci su prikupljani kontinuirano kroz cijelu radnu smjenu, trajanja 8 sati, moguće su situacije u kojima radni ciklus započinje u jednom videu, a završava u drugom (npr. V2 i V3). U ovom slučaju u tablici `Rezovi_original.xlsx` u koloni `Napomena` kod oba zapisa stavljena je oznaka **part**, a u koloni `Uzorak` prvi video ima isključivo numeričku oznaku, a drugi video istu numeričku oznaku ali i sufiks \"A\" (npr. 129 i 129A). Ovaj stil označavanja odabran jer jer će kasnije takvi video zapisi biti spojeni i činiti će jedan uzorak.\n",
    "\n",
    "Finalno definirana je i kolona `Output_name`, koja sadrži konkatenaciju kolona sa oznakama (npr. **2_D1_V1_O1_T1**), ona će služiti za pridodavanje imena direktorijima koji će sadržavati izvučene slike iz video zapisa.\n",
    "\n",
    "Postupak formiranja direktorija `Ulaz_video` :\n",
    "\n",
    "`Ulaz video` sadržava u sebi tri datoteke `Fine`, `Fokus` i `HE`  u kojima se nalaze video zapisi snimljeni iz različitih kadrova.\n",
    "\n",
    "* Kadar **Fine** snimljen je iz lijeve bočne pozicije operatera. Video zapisi smanjeni na rezoluciju \"288x224\", 30 fps.\n",
    "* Kadar **HE** snimljen je iz ptičje perspektive te je na njemu vidljiva cijela radna površina operatere. Video zapisi smanjeni su na rezoluciju \"320x192\", 30 fps.\n",
    "* Kadar **Fokus** snimljen je isto iz ptičje perspektive ali na njemu je fokus na proizvodu. Video zapisi smanjeni su na rezoluciju \"320x160\", 30 fps.\n",
    "\n",
    "\n"
   ]
  },
  {
   "cell_type": "markdown",
   "metadata": {},
   "source": [
    "### Uvoz potrebnih biblioteka za sve faze"
   ]
  },
  {
   "cell_type": "code",
   "execution_count": 1,
   "metadata": {},
   "outputs": [],
   "source": [
    "import os\n",
    "import shutil\n",
    "import pandas as pd\n",
    "#samostalno kreirana biblioteka za rad sa video zapisima\n",
    "from video_editing_utils import video_to_segment, concat_two_videos, video_to_image \n",
    "from tqdm import tqdm"
   ]
  },
  {
   "cell_type": "markdown",
   "metadata": {},
   "source": [
    "## 2. Faza - izvlačenje rezanih segmenata iz video zapisa"
   ]
  },
  {
   "cell_type": "markdown",
   "metadata": {},
   "source": [
    "**Produkti faze:** `Rezovi.xlsx`, `Video_rezovi`  \n",
    "\n",
    "Ažurirane su kolone `Start`, `End` i `Duration` i napravljena je tablica `Rezovi.xlsx`.\n",
    "Izrađena je skripta koja koriste podatke iz tablice `Rezovi.xlsx`, kako bi na odgovarajućim mjestima izvukla segmente video zapisa iz direktorija `Ulaz_video`. Rezovi su pohranjeni u direktoriju `Video_rezovi`. "
   ]
  },
  {
   "cell_type": "markdown",
   "metadata": {},
   "source": [
    "### Uvoz podataka o točkama rezanja"
   ]
  },
  {
   "cell_type": "code",
   "execution_count": 25,
   "metadata": {},
   "outputs": [],
   "source": [
    "#Putanja do tablice \"Rezovi\"\n",
    "cut_path = \"C:/Users/Public/Rezovi.xlsx\"\n",
    "\n",
    "#Učitavanje podataka za kadrove HE i Fokus\n",
    "rezovi_HE = pd.read_excel(cut_path)\n",
    "#Učitavanje podataka za kadar Fine\n",
    "rezovi_fine = pd.read_excel(cut_path, sheet_name=1)#to je na listu 2 (0-indeksiranje)"
   ]
  },
  {
   "cell_type": "code",
   "execution_count": 26,
   "metadata": {
    "scrolled": true
   },
   "outputs": [
    {
     "data": {
      "text/html": [
       "<div>\n",
       "<style scoped>\n",
       "    .dataframe tbody tr th:only-of-type {\n",
       "        vertical-align: middle;\n",
       "    }\n",
       "\n",
       "    .dataframe tbody tr th {\n",
       "        vertical-align: top;\n",
       "    }\n",
       "\n",
       "    .dataframe thead th {\n",
       "        text-align: right;\n",
       "    }\n",
       "</style>\n",
       "<table border=\"1\" class=\"dataframe\">\n",
       "  <thead>\n",
       "    <tr style=\"text-align: right;\">\n",
       "      <th></th>\n",
       "      <th>Uzorak</th>\n",
       "      <th>Day_ID</th>\n",
       "      <th>Video_ID</th>\n",
       "      <th>Subject</th>\n",
       "      <th>Object_type</th>\n",
       "      <th>Output_name</th>\n",
       "      <th>Start</th>\n",
       "      <th>End</th>\n",
       "      <th>Duration</th>\n",
       "      <th>Napomena</th>\n",
       "    </tr>\n",
       "  </thead>\n",
       "  <tbody>\n",
       "    <tr>\n",
       "      <th>0</th>\n",
       "      <td>1</td>\n",
       "      <td>D1</td>\n",
       "      <td>V1</td>\n",
       "      <td>O1</td>\n",
       "      <td>T1</td>\n",
       "      <td>1_D1_V1_O1_T1</td>\n",
       "      <td>09:18:00</td>\n",
       "      <td>10:12:00</td>\n",
       "      <td>00:54:00</td>\n",
       "      <td>NaN</td>\n",
       "    </tr>\n",
       "    <tr>\n",
       "      <th>1</th>\n",
       "      <td>2</td>\n",
       "      <td>D1</td>\n",
       "      <td>V1</td>\n",
       "      <td>O1</td>\n",
       "      <td>T1</td>\n",
       "      <td>2_D1_V1_O1_T1</td>\n",
       "      <td>10:12:00</td>\n",
       "      <td>10:57:00</td>\n",
       "      <td>00:45:00</td>\n",
       "      <td>NaN</td>\n",
       "    </tr>\n",
       "    <tr>\n",
       "      <th>2</th>\n",
       "      <td>3</td>\n",
       "      <td>D1</td>\n",
       "      <td>V1</td>\n",
       "      <td>O1</td>\n",
       "      <td>T1</td>\n",
       "      <td>3_D1_V1_O1_T1</td>\n",
       "      <td>10:57:00</td>\n",
       "      <td>11:36:00</td>\n",
       "      <td>00:39:00</td>\n",
       "      <td>NaN</td>\n",
       "    </tr>\n",
       "    <tr>\n",
       "      <th>3</th>\n",
       "      <td>4</td>\n",
       "      <td>D1</td>\n",
       "      <td>V1</td>\n",
       "      <td>O1</td>\n",
       "      <td>T1</td>\n",
       "      <td>4_D1_V1_O1_T1</td>\n",
       "      <td>11:36:00</td>\n",
       "      <td>12:28:00</td>\n",
       "      <td>00:52:00</td>\n",
       "      <td>NaN</td>\n",
       "    </tr>\n",
       "    <tr>\n",
       "      <th>4</th>\n",
       "      <td>5</td>\n",
       "      <td>D1</td>\n",
       "      <td>V1</td>\n",
       "      <td>O1</td>\n",
       "      <td>T1</td>\n",
       "      <td>5_D1_V1_O1_T1</td>\n",
       "      <td>12:28:00</td>\n",
       "      <td>13:18:00</td>\n",
       "      <td>00:50:00</td>\n",
       "      <td>NaN</td>\n",
       "    </tr>\n",
       "    <tr>\n",
       "      <th>5</th>\n",
       "      <td>6</td>\n",
       "      <td>D1</td>\n",
       "      <td>V1</td>\n",
       "      <td>O1</td>\n",
       "      <td>T1</td>\n",
       "      <td>6_D1_V1_O1_T1</td>\n",
       "      <td>13:18:00</td>\n",
       "      <td>14:09:00</td>\n",
       "      <td>00:51:00</td>\n",
       "      <td>NaN</td>\n",
       "    </tr>\n",
       "    <tr>\n",
       "      <th>6</th>\n",
       "      <td>7</td>\n",
       "      <td>D1</td>\n",
       "      <td>V1</td>\n",
       "      <td>O1</td>\n",
       "      <td>T1</td>\n",
       "      <td>7_D1_V1_O1_T1</td>\n",
       "      <td>14:09:00</td>\n",
       "      <td>15:01:00</td>\n",
       "      <td>00:52:00</td>\n",
       "      <td>NaN</td>\n",
       "    </tr>\n",
       "    <tr>\n",
       "      <th>7</th>\n",
       "      <td>8</td>\n",
       "      <td>D1</td>\n",
       "      <td>V1</td>\n",
       "      <td>O1</td>\n",
       "      <td>T1</td>\n",
       "      <td>8_D1_V1_O1_T1</td>\n",
       "      <td>15:01:00</td>\n",
       "      <td>15:47:00</td>\n",
       "      <td>00:46:00</td>\n",
       "      <td>NaN</td>\n",
       "    </tr>\n",
       "  </tbody>\n",
       "</table>\n",
       "</div>"
      ],
      "text/plain": [
       "  Uzorak Day_ID Video_ID Subject Object_type    Output_name     Start  \\\n",
       "0      1     D1       V1      O1          T1  1_D1_V1_O1_T1  09:18:00   \n",
       "1      2     D1       V1      O1          T1  2_D1_V1_O1_T1  10:12:00   \n",
       "2      3     D1       V1      O1          T1  3_D1_V1_O1_T1  10:57:00   \n",
       "3      4     D1       V1      O1          T1  4_D1_V1_O1_T1  11:36:00   \n",
       "4      5     D1       V1      O1          T1  5_D1_V1_O1_T1  12:28:00   \n",
       "5      6     D1       V1      O1          T1  6_D1_V1_O1_T1  13:18:00   \n",
       "6      7     D1       V1      O1          T1  7_D1_V1_O1_T1  14:09:00   \n",
       "7      8     D1       V1      O1          T1  8_D1_V1_O1_T1  15:01:00   \n",
       "\n",
       "        End  Duration Napomena  \n",
       "0  10:12:00  00:54:00      NaN  \n",
       "1  10:57:00  00:45:00      NaN  \n",
       "2  11:36:00  00:39:00      NaN  \n",
       "3  12:28:00  00:52:00      NaN  \n",
       "4  13:18:00  00:50:00      NaN  \n",
       "5  14:09:00  00:51:00      NaN  \n",
       "6  15:01:00  00:52:00      NaN  \n",
       "7  15:47:00  00:46:00      NaN  "
      ]
     },
     "execution_count": 26,
     "metadata": {},
     "output_type": "execute_result"
    }
   ],
   "source": [
    "#Pregled uvezenih podataka - kadrovi HE i Fokus\n",
    "rezovi_HE.head(8)"
   ]
  },
  {
   "cell_type": "code",
   "execution_count": 4,
   "metadata": {},
   "outputs": [
    {
     "data": {
      "text/plain": [
       "{'Uzorak': int,\n",
       " 'Day_ID': str,\n",
       " 'Video_ID': str,\n",
       " 'Subject': str,\n",
       " 'Object_type': str,\n",
       " 'Output_name': str,\n",
       " 'Start': datetime.time,\n",
       " 'End': datetime.time,\n",
       " 'Duration': datetime.time,\n",
       " 'Napomena': float}"
      ]
     },
     "execution_count": 4,
     "metadata": {},
     "output_type": "execute_result"
    }
   ],
   "source": [
    "#Tipovi podataka u kolonama\n",
    "{kolona: type(rezovi_HE[kolona][0]) for kolona in rezovi_HE}"
   ]
  },
  {
   "cell_type": "code",
   "execution_count": 28,
   "metadata": {},
   "outputs": [],
   "source": [
    "#Pretvorba kolona \"Start\", \"End\" i \"Duration\" u str, te u format <minuta:sekunda>\n",
    "#ovo je potrebno jer funkcija video_to_segment kao ulaz prihvaća samo string, a ne datetime.time\n",
    "#Ovdje koristim applymap, a ne apply jer radim transformaciju više kolona sa ne vektoriziranom funkcijom\n",
    "rezovi_HE.loc[:, [\"Start\", \"End\", \"Duration\"]] = rezovi_HE.loc[:,[\"Start\", \"End\", \"Duration\"]].astype(\"str\").applymap(lambda x: x[:5])\n",
    "rezovi_fine.loc[:, [\"Start\", \"End\", \"Duration\"]] = rezovi_fine.loc[:,[\"Start\", \"End\", \"Duration\"]].astype(\"str\").applymap(lambda x: x[:5])"
   ]
  },
  {
   "cell_type": "code",
   "execution_count": 6,
   "metadata": {},
   "outputs": [
    {
     "data": {
      "text/html": [
       "<div>\n",
       "<style scoped>\n",
       "    .dataframe tbody tr th:only-of-type {\n",
       "        vertical-align: middle;\n",
       "    }\n",
       "\n",
       "    .dataframe tbody tr th {\n",
       "        vertical-align: top;\n",
       "    }\n",
       "\n",
       "    .dataframe thead th {\n",
       "        text-align: right;\n",
       "    }\n",
       "</style>\n",
       "<table border=\"1\" class=\"dataframe\">\n",
       "  <thead>\n",
       "    <tr style=\"text-align: right;\">\n",
       "      <th></th>\n",
       "      <th>Uzorak</th>\n",
       "      <th>Day_ID</th>\n",
       "      <th>Video_ID</th>\n",
       "      <th>Subject</th>\n",
       "      <th>Object_type</th>\n",
       "      <th>Output_name</th>\n",
       "      <th>Start</th>\n",
       "      <th>End</th>\n",
       "      <th>Duration</th>\n",
       "      <th>Napomena</th>\n",
       "    </tr>\n",
       "  </thead>\n",
       "  <tbody>\n",
       "    <tr>\n",
       "      <th>0</th>\n",
       "      <td>1</td>\n",
       "      <td>D1</td>\n",
       "      <td>V1</td>\n",
       "      <td>O1</td>\n",
       "      <td>T1</td>\n",
       "      <td>1_D1_V1_O1_T1</td>\n",
       "      <td>09:18</td>\n",
       "      <td>10:12</td>\n",
       "      <td>00:54</td>\n",
       "      <td>NaN</td>\n",
       "    </tr>\n",
       "    <tr>\n",
       "      <th>1</th>\n",
       "      <td>2</td>\n",
       "      <td>D1</td>\n",
       "      <td>V1</td>\n",
       "      <td>O1</td>\n",
       "      <td>T1</td>\n",
       "      <td>2_D1_V1_O1_T1</td>\n",
       "      <td>10:12</td>\n",
       "      <td>10:57</td>\n",
       "      <td>00:45</td>\n",
       "      <td>NaN</td>\n",
       "    </tr>\n",
       "    <tr>\n",
       "      <th>2</th>\n",
       "      <td>3</td>\n",
       "      <td>D1</td>\n",
       "      <td>V1</td>\n",
       "      <td>O1</td>\n",
       "      <td>T1</td>\n",
       "      <td>3_D1_V1_O1_T1</td>\n",
       "      <td>10:57</td>\n",
       "      <td>11:36</td>\n",
       "      <td>00:39</td>\n",
       "      <td>NaN</td>\n",
       "    </tr>\n",
       "    <tr>\n",
       "      <th>3</th>\n",
       "      <td>4</td>\n",
       "      <td>D1</td>\n",
       "      <td>V1</td>\n",
       "      <td>O1</td>\n",
       "      <td>T1</td>\n",
       "      <td>4_D1_V1_O1_T1</td>\n",
       "      <td>11:36</td>\n",
       "      <td>12:28</td>\n",
       "      <td>00:52</td>\n",
       "      <td>NaN</td>\n",
       "    </tr>\n",
       "    <tr>\n",
       "      <th>4</th>\n",
       "      <td>5</td>\n",
       "      <td>D1</td>\n",
       "      <td>V1</td>\n",
       "      <td>O1</td>\n",
       "      <td>T1</td>\n",
       "      <td>5_D1_V1_O1_T1</td>\n",
       "      <td>12:28</td>\n",
       "      <td>13:18</td>\n",
       "      <td>00:50</td>\n",
       "      <td>NaN</td>\n",
       "    </tr>\n",
       "    <tr>\n",
       "      <th>...</th>\n",
       "      <td>...</td>\n",
       "      <td>...</td>\n",
       "      <td>...</td>\n",
       "      <td>...</td>\n",
       "      <td>...</td>\n",
       "      <td>...</td>\n",
       "      <td>...</td>\n",
       "      <td>...</td>\n",
       "      <td>...</td>\n",
       "      <td>...</td>\n",
       "    </tr>\n",
       "    <tr>\n",
       "      <th>658</th>\n",
       "      <td>624</td>\n",
       "      <td>D7</td>\n",
       "      <td>V22</td>\n",
       "      <td>O3</td>\n",
       "      <td>T1</td>\n",
       "      <td>624_D7_V22_O3_T1</td>\n",
       "      <td>03:14</td>\n",
       "      <td>04:10</td>\n",
       "      <td>00:56</td>\n",
       "      <td>NaN</td>\n",
       "    </tr>\n",
       "    <tr>\n",
       "      <th>659</th>\n",
       "      <td>625</td>\n",
       "      <td>D7</td>\n",
       "      <td>V22</td>\n",
       "      <td>O3</td>\n",
       "      <td>T1</td>\n",
       "      <td>625_D7_V22_O3_T1</td>\n",
       "      <td>04:11</td>\n",
       "      <td>05:21</td>\n",
       "      <td>01:10</td>\n",
       "      <td>NaN</td>\n",
       "    </tr>\n",
       "    <tr>\n",
       "      <th>660</th>\n",
       "      <td>626</td>\n",
       "      <td>D7</td>\n",
       "      <td>V22</td>\n",
       "      <td>O3</td>\n",
       "      <td>T1</td>\n",
       "      <td>626_D7_V22_O3_T1</td>\n",
       "      <td>05:22</td>\n",
       "      <td>06:27</td>\n",
       "      <td>01:05</td>\n",
       "      <td>NaN</td>\n",
       "    </tr>\n",
       "    <tr>\n",
       "      <th>661</th>\n",
       "      <td>627</td>\n",
       "      <td>D7</td>\n",
       "      <td>V22</td>\n",
       "      <td>O3</td>\n",
       "      <td>T1</td>\n",
       "      <td>627_D7_V22_O3_T1</td>\n",
       "      <td>06:28</td>\n",
       "      <td>07:22</td>\n",
       "      <td>00:54</td>\n",
       "      <td>NaN</td>\n",
       "    </tr>\n",
       "    <tr>\n",
       "      <th>662</th>\n",
       "      <td>628</td>\n",
       "      <td>D7</td>\n",
       "      <td>V22</td>\n",
       "      <td>O3</td>\n",
       "      <td>T1</td>\n",
       "      <td>628_D7_V22_O3_T1</td>\n",
       "      <td>07:23</td>\n",
       "      <td>08:19</td>\n",
       "      <td>00:56</td>\n",
       "      <td>NaN</td>\n",
       "    </tr>\n",
       "  </tbody>\n",
       "</table>\n",
       "<p>663 rows × 10 columns</p>\n",
       "</div>"
      ],
      "text/plain": [
       "    Uzorak Day_ID Video_ID Subject Object_type       Output_name  Start  \\\n",
       "0        1     D1       V1      O1          T1     1_D1_V1_O1_T1  09:18   \n",
       "1        2     D1       V1      O1          T1     2_D1_V1_O1_T1  10:12   \n",
       "2        3     D1       V1      O1          T1     3_D1_V1_O1_T1  10:57   \n",
       "3        4     D1       V1      O1          T1     4_D1_V1_O1_T1  11:36   \n",
       "4        5     D1       V1      O1          T1     5_D1_V1_O1_T1  12:28   \n",
       "..     ...    ...      ...     ...         ...               ...    ...   \n",
       "658    624     D7      V22      O3          T1  624_D7_V22_O3_T1  03:14   \n",
       "659    625     D7      V22      O3          T1  625_D7_V22_O3_T1  04:11   \n",
       "660    626     D7      V22      O3          T1  626_D7_V22_O3_T1  05:22   \n",
       "661    627     D7      V22      O3          T1  627_D7_V22_O3_T1  06:28   \n",
       "662    628     D7      V22      O3          T1  628_D7_V22_O3_T1  07:23   \n",
       "\n",
       "       End Duration Napomena  \n",
       "0    10:12    00:54      NaN  \n",
       "1    10:57    00:45      NaN  \n",
       "2    11:36    00:39      NaN  \n",
       "3    12:28    00:52      NaN  \n",
       "4    13:18    00:50      NaN  \n",
       "..     ...      ...      ...  \n",
       "658  04:10    00:56      NaN  \n",
       "659  05:21    01:10      NaN  \n",
       "660  06:27    01:05      NaN  \n",
       "661  07:22    00:54      NaN  \n",
       "662  08:19    00:56      NaN  \n",
       "\n",
       "[663 rows x 10 columns]"
      ]
     },
     "execution_count": 6,
     "metadata": {},
     "output_type": "execute_result"
    }
   ],
   "source": [
    "rezovi_fine"
   ]
  },
  {
   "cell_type": "code",
   "execution_count": 8,
   "metadata": {},
   "outputs": [
    {
     "data": {
      "text/plain": [
       "True"
      ]
     },
     "execution_count": 8,
     "metadata": {},
     "output_type": "execute_result"
    }
   ],
   "source": [
    "#Provjera da li je sve ok\n",
    "sum(pd.isna(rezovi_fine.Duration)) == 0"
   ]
  },
  {
   "cell_type": "markdown",
   "metadata": {},
   "source": [
    "### Definiranje putanja do datoteka sa ulaznim video zapisima za sve kadrove"
   ]
  },
  {
   "cell_type": "code",
   "execution_count": 29,
   "metadata": {},
   "outputs": [],
   "source": [
    "#Putanja do glavnog direktorija\n",
    "video_path = 'C:/Users/Public/Ulaz_video'\n",
    "\n",
    "#Kadrovi kamere\n",
    "kadrovi_path = os.listdir(video_path)\n",
    "\n",
    "#Putanje do poddirektorija sa snimkama iz pojedinih kadrova\n",
    "input_dir_fine = os.path.join(video_path, kadrovi_path[0])\n",
    "input_dir_fokus = os.path.join(video_path, kadrovi_path[1])\n",
    "input_dir_HE = os.path.join(video_path, kadrovi_path[2])"
   ]
  },
  {
   "cell_type": "markdown",
   "metadata": {},
   "source": [
    "### Obrada HE kadra"
   ]
  },
  {
   "cell_type": "code",
   "execution_count": 30,
   "metadata": {},
   "outputs": [
    {
     "name": "stdout",
     "output_type": "stream",
     "text": [
      "0 => Uzorak\n",
      "1 => Day_ID\n",
      "2 => Video_ID\n",
      "3 => Subject\n",
      "4 => Object_type\n",
      "5 => Output_name\n",
      "6 => Start\n",
      "7 => End\n",
      "8 => Duration\n",
      "9 => Napomena\n"
     ]
    }
   ],
   "source": [
    "#Pregled indeksa kolona - ovo je potrebno zbog poziva funkciji video_to_segment\n",
    "for idx, rez in enumerate(rezovi_HE.columns):\n",
    "    print(idx, \"=>\", rez)"
   ]
  },
  {
   "cell_type": "code",
   "execution_count": 11,
   "metadata": {},
   "outputs": [],
   "source": [
    "#Definiranje funkcije za izvlačenje segmenata iz videa\n",
    "\n",
    "def video_cutter(in_video_path, out_video_path, cut_data):\n",
    "    '''Funkcija za izvlačenje segmenata iz svih videa jednog kadra za moj skup podataka.\n",
    "    \n",
    "    Da bi ova funkcija bila primjenjiva direktoriji i podatci o rezovima moraju biti\n",
    "    organizirani kao što je opisano u 1. fazi\n",
    "    \n",
    "    in_video_path : apsolutna putanja do direktorija sa ulaznim video zapisima\n",
    "    \n",
    "    out_video_path : apsolutna putanja do direktorija za izvučene segmente\n",
    "    \n",
    "    cut_data : [array_like] tablica sa podacima o točkama rezanja\n",
    "    \n",
    "    Return : None\n",
    "    '''\n",
    "    #Petlja po danu zbog načina na koji je oblikovan input direktorij, tqdm je tu kao tajmer\n",
    "    for day in tqdm(os.listdir(in_video_path)):\n",
    "        #Petlja po videu u pojedinom danu\n",
    "        for video in os.listdir(os.path.join(in_video_path, day)): \n",
    "            temp = video.split(\".\")[0] #izbaci \".mp4\" zbog slijedećeg koraka\n",
    "            #Informacija o rezovima za aktualni dan i video\n",
    "            cuts = cut_data.loc[(cut_data[\"Day_ID\"] == day) & (cut_data[\"Video_ID\"] == temp)] \n",
    "            #Putanja do videa\n",
    "            path_to_video = os.path.join(in_video_path, day, video) \n",
    "            #Petlja po izabranim rezovima\n",
    "            for cut in cuts.values: \n",
    "                #Ovdje koristimo glavnu funkciju koja poziva ffmpeg za rezanje\n",
    "                video_to_segment(path_to_video, out_video_path, output_file=f\"{cut[5]}.mp4\", start_point=cut[6], duration=cut[8])"
   ]
  },
  {
   "cell_type": "code",
   "execution_count": 12,
   "metadata": {},
   "outputs": [
    {
     "name": "stderr",
     "output_type": "stream",
     "text": [
      "100%|████████████████████████████████████████████████████████████████████████████████████| 5/5 [02:04<00:00, 24.92s/it]\n"
     ]
    }
   ],
   "source": [
    "#Definiranje izlazne datoteke za rezove snimaka iz kadra HE\n",
    "output_dir_HE = \"C:/Users/Public/Video_rezovi/HE\"\n",
    "\n",
    "#Izvlačenje segmenata za HE\n",
    "video_cutter(input_dir_HE, output_dir_HE, rezovi_HE)"
   ]
  },
  {
   "cell_type": "markdown",
   "metadata": {},
   "source": [
    "### Obrada Fokus kadra"
   ]
  },
  {
   "cell_type": "code",
   "execution_count": 13,
   "metadata": {
    "scrolled": true
   },
   "outputs": [
    {
     "name": "stderr",
     "output_type": "stream",
     "text": [
      "100%|████████████████████████████████████████████████████████████████████████████████████| 5/5 [02:22<00:00, 28.49s/it]\n"
     ]
    }
   ],
   "source": [
    "#Definiranje izlazne datoteke za rezove snimaka iz kadra Fokus\n",
    "output_dir_fokus = \"C:/Users/Public/Video_rezovi/Fokus\"\n",
    "\n",
    "#Izvlačenje segmenata za Fokus, točke rezanja iste su kao za kadar HE\n",
    "video_cutter(input_dir_fokus, output_dir_fokus, rezovi_HE)"
   ]
  },
  {
   "cell_type": "markdown",
   "metadata": {},
   "source": [
    "### Obrada Fine kadra"
   ]
  },
  {
   "cell_type": "code",
   "execution_count": 14,
   "metadata": {
    "scrolled": true
   },
   "outputs": [
    {
     "name": "stderr",
     "output_type": "stream",
     "text": [
      "100%|████████████████████████████████████████████████████████████████████████████████████| 5/5 [02:28<00:00, 29.62s/it]\n"
     ]
    }
   ],
   "source": [
    "#Definiranje izlazne datoteke za rezove snimaka iz kadra Fine\n",
    "output_dir_fine = \"C:/Users/Public/Video_rezovi/Fine\"\n",
    "\n",
    "#Izvlačenje segmenata za Fine, točke rezanja su \"rezovi_fine\"\n",
    "video_cutter(input_dir_fine, output_dir_fine, rezovi_fine)"
   ]
  },
  {
   "cell_type": "markdown",
   "metadata": {},
   "source": [
    "## 3. Faza - spajanje izvučenih segmenta koji čine isti ciklus"
   ]
  },
  {
   "cell_type": "markdown",
   "metadata": {},
   "source": [
    "**Produkti faze:** Ažurirani `Video_rezovi`, `Rezovi_final.xlsx`\n",
    "\n",
    "Nakon izvlačenja video segmenata iz dugih videa, postoji nekolicina videa koji čine jedan ciklus ali su podjeljeni u dva videa.\n",
    "Ove video segmente moguće je prepoznati po oznaci **\"part\"** u koloni `Napomena`.\n",
    "Slijedeći korak je pronaći listu tih videa i spojiti ih u jedan video i to zapisati u datoteku `Rezovi_final.xlsx`"
   ]
  },
  {
   "cell_type": "markdown",
   "metadata": {},
   "source": [
    "### Video zapisi za kadrove Fokus i HE koje treba spojiti"
   ]
  },
  {
   "cell_type": "code",
   "execution_count": 15,
   "metadata": {},
   "outputs": [
    {
     "data": {
      "text/html": [
       "<div>\n",
       "<style scoped>\n",
       "    .dataframe tbody tr th:only-of-type {\n",
       "        vertical-align: middle;\n",
       "    }\n",
       "\n",
       "    .dataframe tbody tr th {\n",
       "        vertical-align: top;\n",
       "    }\n",
       "\n",
       "    .dataframe thead th {\n",
       "        text-align: right;\n",
       "    }\n",
       "</style>\n",
       "<table border=\"1\" class=\"dataframe\">\n",
       "  <thead>\n",
       "    <tr style=\"text-align: right;\">\n",
       "      <th></th>\n",
       "      <th>Uzorak</th>\n",
       "      <th>Day_ID</th>\n",
       "      <th>Video_ID</th>\n",
       "      <th>Subject</th>\n",
       "      <th>Object_type</th>\n",
       "      <th>Output_name</th>\n",
       "      <th>Start</th>\n",
       "      <th>End</th>\n",
       "      <th>Duration</th>\n",
       "      <th>Napomena</th>\n",
       "    </tr>\n",
       "  </thead>\n",
       "  <tbody>\n",
       "    <tr>\n",
       "      <th>10</th>\n",
       "      <td>11</td>\n",
       "      <td>D1</td>\n",
       "      <td>V1</td>\n",
       "      <td>O1</td>\n",
       "      <td>T1</td>\n",
       "      <td>11_D1_V1_O1_T1</td>\n",
       "      <td>17:36</td>\n",
       "      <td>17:41</td>\n",
       "      <td>00:05</td>\n",
       "      <td>part1</td>\n",
       "    </tr>\n",
       "    <tr>\n",
       "      <th>11</th>\n",
       "      <td>11A</td>\n",
       "      <td>D1</td>\n",
       "      <td>V2</td>\n",
       "      <td>O1</td>\n",
       "      <td>T1</td>\n",
       "      <td>11A_D1_V2_O1_T1</td>\n",
       "      <td>00:00</td>\n",
       "      <td>00:49</td>\n",
       "      <td>00:49</td>\n",
       "      <td>part1</td>\n",
       "    </tr>\n",
       "    <tr>\n",
       "      <th>31</th>\n",
       "      <td>31</td>\n",
       "      <td>D1</td>\n",
       "      <td>V2</td>\n",
       "      <td>O1</td>\n",
       "      <td>T1</td>\n",
       "      <td>31_D1_V2_O1_T1</td>\n",
       "      <td>16:57</td>\n",
       "      <td>17:40</td>\n",
       "      <td>00:43</td>\n",
       "      <td>part2</td>\n",
       "    </tr>\n",
       "    <tr>\n",
       "      <th>32</th>\n",
       "      <td>31A</td>\n",
       "      <td>D1</td>\n",
       "      <td>V3</td>\n",
       "      <td>O1</td>\n",
       "      <td>T1</td>\n",
       "      <td>31A_D1_V3_O1_T1</td>\n",
       "      <td>00:00</td>\n",
       "      <td>00:01</td>\n",
       "      <td>00:01</td>\n",
       "      <td>part2</td>\n",
       "    </tr>\n",
       "    <tr>\n",
       "      <th>90</th>\n",
       "      <td>89</td>\n",
       "      <td>D1</td>\n",
       "      <td>V5</td>\n",
       "      <td>O1</td>\n",
       "      <td>T2</td>\n",
       "      <td>89_D1_V5_O1_T2</td>\n",
       "      <td>17:34</td>\n",
       "      <td>17:40</td>\n",
       "      <td>00:06</td>\n",
       "      <td>part3</td>\n",
       "    </tr>\n",
       "    <tr>\n",
       "      <th>...</th>\n",
       "      <td>...</td>\n",
       "      <td>...</td>\n",
       "      <td>...</td>\n",
       "      <td>...</td>\n",
       "      <td>...</td>\n",
       "      <td>...</td>\n",
       "      <td>...</td>\n",
       "      <td>...</td>\n",
       "      <td>...</td>\n",
       "      <td>...</td>\n",
       "    </tr>\n",
       "    <tr>\n",
       "      <th>619</th>\n",
       "      <td>589A</td>\n",
       "      <td>D7</td>\n",
       "      <td>V20</td>\n",
       "      <td>O3</td>\n",
       "      <td>T1</td>\n",
       "      <td>589A_D7_V20_O3_T1</td>\n",
       "      <td>00:00</td>\n",
       "      <td>00:21</td>\n",
       "      <td>00:21</td>\n",
       "      <td>part31</td>\n",
       "    </tr>\n",
       "    <tr>\n",
       "      <th>635</th>\n",
       "      <td>605</td>\n",
       "      <td>D7</td>\n",
       "      <td>V20</td>\n",
       "      <td>O3</td>\n",
       "      <td>T1</td>\n",
       "      <td>605_D7_V20_O3_T1</td>\n",
       "      <td>17:08</td>\n",
       "      <td>17:40</td>\n",
       "      <td>00:32</td>\n",
       "      <td>part32</td>\n",
       "    </tr>\n",
       "    <tr>\n",
       "      <th>636</th>\n",
       "      <td>605A</td>\n",
       "      <td>D7</td>\n",
       "      <td>V21</td>\n",
       "      <td>O3</td>\n",
       "      <td>T1</td>\n",
       "      <td>605A_D7_V21_O3_T1</td>\n",
       "      <td>00:00</td>\n",
       "      <td>00:34</td>\n",
       "      <td>00:34</td>\n",
       "      <td>part32</td>\n",
       "    </tr>\n",
       "    <tr>\n",
       "      <th>652</th>\n",
       "      <td>621</td>\n",
       "      <td>D7</td>\n",
       "      <td>V21</td>\n",
       "      <td>O3</td>\n",
       "      <td>T1</td>\n",
       "      <td>621_D7_V21_O3_T1</td>\n",
       "      <td>17:31</td>\n",
       "      <td>17:40</td>\n",
       "      <td>00:09</td>\n",
       "      <td>part33</td>\n",
       "    </tr>\n",
       "    <tr>\n",
       "      <th>653</th>\n",
       "      <td>621A</td>\n",
       "      <td>D7</td>\n",
       "      <td>V22</td>\n",
       "      <td>O3</td>\n",
       "      <td>T1</td>\n",
       "      <td>621A_D7_V22_O3_T1</td>\n",
       "      <td>00:00</td>\n",
       "      <td>00:51</td>\n",
       "      <td>00:51</td>\n",
       "      <td>part33</td>\n",
       "    </tr>\n",
       "  </tbody>\n",
       "</table>\n",
       "<p>66 rows × 10 columns</p>\n",
       "</div>"
      ],
      "text/plain": [
       "    Uzorak Day_ID Video_ID Subject Object_type        Output_name  Start  \\\n",
       "10      11     D1       V1      O1          T1     11_D1_V1_O1_T1  17:36   \n",
       "11     11A     D1       V2      O1          T1    11A_D1_V2_O1_T1  00:00   \n",
       "31      31     D1       V2      O1          T1     31_D1_V2_O1_T1  16:57   \n",
       "32     31A     D1       V3      O1          T1    31A_D1_V3_O1_T1  00:00   \n",
       "90      89     D1       V5      O1          T2     89_D1_V5_O1_T2  17:34   \n",
       "..     ...    ...      ...     ...         ...                ...    ...   \n",
       "619   589A     D7      V20      O3          T1  589A_D7_V20_O3_T1  00:00   \n",
       "635    605     D7      V20      O3          T1   605_D7_V20_O3_T1  17:08   \n",
       "636   605A     D7      V21      O3          T1  605A_D7_V21_O3_T1  00:00   \n",
       "652    621     D7      V21      O3          T1   621_D7_V21_O3_T1  17:31   \n",
       "653   621A     D7      V22      O3          T1  621A_D7_V22_O3_T1  00:00   \n",
       "\n",
       "       End Duration Napomena  \n",
       "10   17:41    00:05    part1  \n",
       "11   00:49    00:49    part1  \n",
       "31   17:40    00:43    part2  \n",
       "32   00:01    00:01    part2  \n",
       "90   17:40    00:06    part3  \n",
       "..     ...      ...      ...  \n",
       "619  00:21    00:21   part31  \n",
       "635  17:40    00:32   part32  \n",
       "636  00:34    00:34   part32  \n",
       "652  17:40    00:09   part33  \n",
       "653  00:51    00:51   part33  \n",
       "\n",
       "[66 rows x 10 columns]"
      ]
     },
     "execution_count": 15,
     "metadata": {},
     "output_type": "execute_result"
    }
   ],
   "source": [
    "#Odbaci NaN retke i odaberi za one retke koji sadrže u koloni Napomena => \"part\" oznaku\n",
    "rezovi_HE_concat = rezovi_HE.dropna().loc[rezovi_HE.dropna()[\"Napomena\"].str.contains(\"part\", case=False)]\n",
    "rezovi_HE_concat"
   ]
  },
  {
   "cell_type": "markdown",
   "metadata": {},
   "source": [
    "### Video zapisi za kadar Fine koje treba spojiti"
   ]
  },
  {
   "cell_type": "code",
   "execution_count": 16,
   "metadata": {},
   "outputs": [
    {
     "data": {
      "text/html": [
       "<div>\n",
       "<style scoped>\n",
       "    .dataframe tbody tr th:only-of-type {\n",
       "        vertical-align: middle;\n",
       "    }\n",
       "\n",
       "    .dataframe tbody tr th {\n",
       "        vertical-align: top;\n",
       "    }\n",
       "\n",
       "    .dataframe thead th {\n",
       "        text-align: right;\n",
       "    }\n",
       "</style>\n",
       "<table border=\"1\" class=\"dataframe\">\n",
       "  <thead>\n",
       "    <tr style=\"text-align: right;\">\n",
       "      <th></th>\n",
       "      <th>Uzorak</th>\n",
       "      <th>Day_ID</th>\n",
       "      <th>Video_ID</th>\n",
       "      <th>Subject</th>\n",
       "      <th>Object_type</th>\n",
       "      <th>Output_name</th>\n",
       "      <th>Start</th>\n",
       "      <th>End</th>\n",
       "      <th>Duration</th>\n",
       "      <th>Napomena</th>\n",
       "    </tr>\n",
       "  </thead>\n",
       "  <tbody>\n",
       "    <tr>\n",
       "      <th>20</th>\n",
       "      <td>21</td>\n",
       "      <td>D1</td>\n",
       "      <td>V2</td>\n",
       "      <td>O1</td>\n",
       "      <td>T1</td>\n",
       "      <td>21_D1_V2_O1_T1</td>\n",
       "      <td>13:09</td>\n",
       "      <td>13:16</td>\n",
       "      <td>00:07</td>\n",
       "      <td>part1</td>\n",
       "    </tr>\n",
       "    <tr>\n",
       "      <th>21</th>\n",
       "      <td>21A</td>\n",
       "      <td>D1</td>\n",
       "      <td>V3</td>\n",
       "      <td>O1</td>\n",
       "      <td>T1</td>\n",
       "      <td>21A_D1_V3_O1_T1</td>\n",
       "      <td>00:00</td>\n",
       "      <td>00:38</td>\n",
       "      <td>00:38</td>\n",
       "      <td>part1</td>\n",
       "    </tr>\n",
       "    <tr>\n",
       "      <th>37</th>\n",
       "      <td>37</td>\n",
       "      <td>D1</td>\n",
       "      <td>V3</td>\n",
       "      <td>O1</td>\n",
       "      <td>T1</td>\n",
       "      <td>37_D1_V3_O1_T1</td>\n",
       "      <td>12:44</td>\n",
       "      <td>13:16</td>\n",
       "      <td>00:32</td>\n",
       "      <td>part2</td>\n",
       "    </tr>\n",
       "    <tr>\n",
       "      <th>38</th>\n",
       "      <td>37A</td>\n",
       "      <td>D1</td>\n",
       "      <td>V4</td>\n",
       "      <td>O1</td>\n",
       "      <td>T1</td>\n",
       "      <td>37A_D1_V4_O1_T1</td>\n",
       "      <td>00:00</td>\n",
       "      <td>00:18</td>\n",
       "      <td>00:18</td>\n",
       "      <td>part2</td>\n",
       "    </tr>\n",
       "    <tr>\n",
       "      <th>67</th>\n",
       "      <td>66</td>\n",
       "      <td>D1</td>\n",
       "      <td>V5</td>\n",
       "      <td>O1</td>\n",
       "      <td>T2</td>\n",
       "      <td>66_D1_V5_O1_T2</td>\n",
       "      <td>12:37</td>\n",
       "      <td>13:16</td>\n",
       "      <td>00:39</td>\n",
       "      <td>part3</td>\n",
       "    </tr>\n",
       "    <tr>\n",
       "      <th>...</th>\n",
       "      <td>...</td>\n",
       "      <td>...</td>\n",
       "      <td>...</td>\n",
       "      <td>...</td>\n",
       "      <td>...</td>\n",
       "      <td>...</td>\n",
       "      <td>...</td>\n",
       "      <td>...</td>\n",
       "      <td>...</td>\n",
       "      <td>...</td>\n",
       "    </tr>\n",
       "    <tr>\n",
       "      <th>621</th>\n",
       "      <td>589A</td>\n",
       "      <td>D7</td>\n",
       "      <td>V20</td>\n",
       "      <td>O3</td>\n",
       "      <td>T1</td>\n",
       "      <td>589A_D7_V20_O3_T1</td>\n",
       "      <td>00:00</td>\n",
       "      <td>00:21</td>\n",
       "      <td>00:21</td>\n",
       "      <td>part33</td>\n",
       "    </tr>\n",
       "    <tr>\n",
       "      <th>637</th>\n",
       "      <td>605</td>\n",
       "      <td>D7</td>\n",
       "      <td>V20</td>\n",
       "      <td>O3</td>\n",
       "      <td>T1</td>\n",
       "      <td>605_D7_V20_O3_T1</td>\n",
       "      <td>17:08</td>\n",
       "      <td>17:40</td>\n",
       "      <td>00:32</td>\n",
       "      <td>part34</td>\n",
       "    </tr>\n",
       "    <tr>\n",
       "      <th>638</th>\n",
       "      <td>605A</td>\n",
       "      <td>D7</td>\n",
       "      <td>V21</td>\n",
       "      <td>O3</td>\n",
       "      <td>T1</td>\n",
       "      <td>605A_D7_V21_O3_T1</td>\n",
       "      <td>00:00</td>\n",
       "      <td>00:34</td>\n",
       "      <td>00:34</td>\n",
       "      <td>part34</td>\n",
       "    </tr>\n",
       "    <tr>\n",
       "      <th>654</th>\n",
       "      <td>621</td>\n",
       "      <td>D7</td>\n",
       "      <td>V21</td>\n",
       "      <td>O3</td>\n",
       "      <td>T1</td>\n",
       "      <td>621_D7_V21_O3_T1</td>\n",
       "      <td>17:31</td>\n",
       "      <td>17:40</td>\n",
       "      <td>00:09</td>\n",
       "      <td>part35</td>\n",
       "    </tr>\n",
       "    <tr>\n",
       "      <th>655</th>\n",
       "      <td>621A</td>\n",
       "      <td>D7</td>\n",
       "      <td>V22</td>\n",
       "      <td>O3</td>\n",
       "      <td>T1</td>\n",
       "      <td>621A_D7_V22_O3_T1</td>\n",
       "      <td>00:00</td>\n",
       "      <td>00:51</td>\n",
       "      <td>00:51</td>\n",
       "      <td>part35</td>\n",
       "    </tr>\n",
       "  </tbody>\n",
       "</table>\n",
       "<p>70 rows × 10 columns</p>\n",
       "</div>"
      ],
      "text/plain": [
       "    Uzorak Day_ID Video_ID Subject Object_type        Output_name  Start  \\\n",
       "20      21     D1       V2      O1          T1     21_D1_V2_O1_T1  13:09   \n",
       "21     21A     D1       V3      O1          T1    21A_D1_V3_O1_T1  00:00   \n",
       "37      37     D1       V3      O1          T1     37_D1_V3_O1_T1  12:44   \n",
       "38     37A     D1       V4      O1          T1    37A_D1_V4_O1_T1  00:00   \n",
       "67      66     D1       V5      O1          T2     66_D1_V5_O1_T2  12:37   \n",
       "..     ...    ...      ...     ...         ...                ...    ...   \n",
       "621   589A     D7      V20      O3          T1  589A_D7_V20_O3_T1  00:00   \n",
       "637    605     D7      V20      O3          T1   605_D7_V20_O3_T1  17:08   \n",
       "638   605A     D7      V21      O3          T1  605A_D7_V21_O3_T1  00:00   \n",
       "654    621     D7      V21      O3          T1   621_D7_V21_O3_T1  17:31   \n",
       "655   621A     D7      V22      O3          T1  621A_D7_V22_O3_T1  00:00   \n",
       "\n",
       "       End Duration Napomena  \n",
       "20   13:16    00:07    part1  \n",
       "21   00:38    00:38    part1  \n",
       "37   13:16    00:32    part2  \n",
       "38   00:18    00:18    part2  \n",
       "67   13:16    00:39    part3  \n",
       "..     ...      ...      ...  \n",
       "621  00:21    00:21   part33  \n",
       "637  17:40    00:32   part34  \n",
       "638  00:34    00:34   part34  \n",
       "654  17:40    00:09   part35  \n",
       "655  00:51    00:51   part35  \n",
       "\n",
       "[70 rows x 10 columns]"
      ]
     },
     "execution_count": 16,
     "metadata": {},
     "output_type": "execute_result"
    }
   ],
   "source": [
    "#Odbaci NaN retke i odaberi za one retke koji sadrže u koloni Napomena => \"part\" oznaku\n",
    "rezovi_fine_concat = rezovi_fine.dropna().loc[rezovi_fine.dropna()[\"Napomena\"].str.contains(\"part\", case=False)]\n",
    "rezovi_fine_concat"
   ]
  },
  {
   "cell_type": "code",
   "execution_count": 17,
   "metadata": {},
   "outputs": [],
   "source": [
    "#Definiranje funkcije za spajanje videa\n",
    "def video_concatenate(video_path, concat_data, keep_inputs=False, dest_inputs=None):\n",
    "    '''Funkcija za spajanje svih parova video zapisa jednog kadra za moji skup podataka.\n",
    "    \n",
    "    Funkcija spojeni video stavlja na lokaciju gdje su bili pohranjeni ulazni video zapisi.\n",
    "    Ulazni video zapisi se uklanjaju ili sele na novu lokaciju.\n",
    "    \n",
    "    Da bi ova funkcija bila primjenjiva direktoriji i podatci o rezovima moraju biti\n",
    "    organizirani kao što je opisano u 1. fazi\n",
    "    \n",
    "    video_path : apsolutna putanja do direktorija sa ulaznim video zapisima, \n",
    "                 i lokacija na koju se pohranjuje spojeni video\n",
    "    \n",
    "    concat_data : [array_like] tablica sa podacima o tome koje video zapise spojiti\n",
    "    \n",
    "    keep_inputs : [bool] da li je potrebno zadržati kopiju ulaznih video zapisa, \n",
    "                 ako je \"keep_inputs=True\" potrebno je definirati lokaciju na koju će\n",
    "                 ulazni video zapisi biti preseljeni u \"dest_inputs\"\n",
    "    \n",
    "    dest_inputs : apsolutna putanja na koju će ulazni video zapisi biti preseljeni\n",
    "    \n",
    "    Return : None\n",
    "    '''\n",
    "    #Iz razloga što uvijek 2 videa imaju istu oznaku dijela\n",
    "    parts = concat_data[\"Napomena\"].drop_duplicates().values \n",
    "    #Petlja po videima za spajanje\n",
    "    for part in tqdm(parts):\n",
    "        #Nazivi dva videa koji će biti spojeni - nalaze se u koloni \"Output_name\"\n",
    "        zapisi_za_spajanje = concat_data.loc[concat_data[\"Napomena\"] == part, \"Output_name\"].values \n",
    "        #Putanja do videa koji će biti spojeni - glavni direktoriji + naziv datoteke\n",
    "        path_to_concats = [os.path.join(video_path, f\"{zapis}.mp4\") for zapis in zapisi_za_spajanje] \n",
    "        #Privremena lokacija spojenog videa - jer će imati isti naziv kao i original, pa ne mogu biti u istom direktoriju\n",
    "        temp_loc_spoja = \"C:/Users/Public/temp_\" \n",
    "        #Spojeni video dobiva naziv originalnog videa\n",
    "        ime_spoja = f\"{zapisi_za_spajanje[0]}.mp4\" \n",
    "        #Ovo je glavna funkcija koja koristi ffmpeg za spajanje 2 videa, ona i kreira output_dir ako ne postoji\n",
    "        concat_two_videos(path_to_concats[0], path_to_concats[1], output_dir=temp_loc_spoja, output_file=ime_spoja)\n",
    "        \n",
    "        #Da li je potrebno zadržati ulazne video zapise\n",
    "        if not keep_inputs:\n",
    "            #Uklanjanje ulaznih videa koji su spajani\n",
    "            [os.remove(path) for path in path_to_concats]  \n",
    "        else:\n",
    "            #Kreiranje lokacije na koju će ulazni video zapisi biti preseljeni, ako već ne postoji\n",
    "            if not os.path.exists(dest_inputs):\n",
    "                os.mkdir(dest_inputs)\n",
    "            #Pomicanje ulaznih videa na novu lokaciju\n",
    "            [shutil.move(path, dest_inputs) for path in path_to_concats]\n",
    "        \n",
    "        #Spojeni video selim u direktorij originala\n",
    "        shutil.move(os.path.join(temp_loc_spoja, ime_spoja), video_path)\n",
    "        #Ukloni privremenu datoteku\n",
    "        shutil.rmtree(temp_loc_spoja)"
   ]
  },
  {
   "cell_type": "markdown",
   "metadata": {},
   "source": [
    "### Obrada kadra HE"
   ]
  },
  {
   "cell_type": "code",
   "execution_count": 18,
   "metadata": {},
   "outputs": [
    {
     "name": "stderr",
     "output_type": "stream",
     "text": [
      "100%|██████████████████████████████████████████████████████████████████████████████████| 33/33 [01:33<00:00,  2.84s/it]\n"
     ]
    }
   ],
   "source": [
    "#Spajanje video zapisa i zadržavanje ulaznih video zapisa\n",
    "dest_HE_inputs = \"C:/Users/Public/HE_inputs\"\n",
    "video_concatenate(output_dir_HE, rezovi_HE_concat, keep_inputs=True, dest_inputs=dest_HE_inputs)"
   ]
  },
  {
   "cell_type": "markdown",
   "metadata": {},
   "source": [
    "### Obrada Fokus kadra"
   ]
  },
  {
   "cell_type": "code",
   "execution_count": 19,
   "metadata": {},
   "outputs": [
    {
     "name": "stderr",
     "output_type": "stream",
     "text": [
      "100%|██████████████████████████████████████████████████████████████████████████████████| 33/33 [01:58<00:00,  3.58s/it]\n"
     ]
    }
   ],
   "source": [
    "#Spajanje video zapisa i zadržavanje ulaznih video zapisa\n",
    "dest_fokus_inputs = \"C:/Users/Public/Fokus_inputs\"\n",
    "video_concatenate(output_dir_fokus, rezovi_HE_concat, keep_inputs=True, dest_inputs=dest_fokus_inputs)"
   ]
  },
  {
   "cell_type": "markdown",
   "metadata": {},
   "source": [
    "### Obrada Fine kadra"
   ]
  },
  {
   "cell_type": "code",
   "execution_count": 20,
   "metadata": {},
   "outputs": [
    {
     "name": "stderr",
     "output_type": "stream",
     "text": [
      "100%|██████████████████████████████████████████████████████████████████████████████████| 35/35 [01:50<00:00,  3.17s/it]\n"
     ]
    }
   ],
   "source": [
    "#Spajanje video zapisa i zadržavanje ulaznih video zapisa\n",
    "dest_fine_inputs = \"C:/Users/Public/Fine_inputs\"\n",
    "video_concatenate(output_dir_fine, rezovi_fine_concat, keep_inputs=True, dest_inputs=dest_fine_inputs)"
   ]
  },
  {
   "cell_type": "markdown",
   "metadata": {},
   "source": [
    "## 4. Faza  - izvlačenje sličica iz video segmenata"
   ]
  },
  {
   "cell_type": "markdown",
   "metadata": {},
   "source": [
    "**Produkti faze:** `Uzorak_slike`\n",
    "\n",
    "Napravljena je skripta koja koriste video zapise iz datoteke `Video_rezovi`, kako bi se provelo izvlačenje sličica iz video zapisa, uz korak uzorkovanja od **5 fps**, tj. u jednoj sekundi je uniformno uzorkovano 5 sličica, što znači da je preciznost kod označavanja aktivnosti ograničena na dvije desetinke sekunde (npr. 10.2, 11.4 itd.). \n",
    "Razlozi poduzorkovanja su praktične prirode - 1.kako bi model mogao biti naučen primjenom postojećih resursa, 2.postoji značajna redundantnost između susjednih sličica."
   ]
  },
  {
   "cell_type": "markdown",
   "metadata": {},
   "source": [
    "### Ulazni podatci "
   ]
  },
  {
   "cell_type": "code",
   "execution_count": 35,
   "metadata": {},
   "outputs": [],
   "source": [
    "#Putanje do direktorija sa video segmentima za obradu\n",
    "#Ovo direktoriji izlaze prethodne faze, ovdje ih zovemo drugačije zbog jasnoće\n",
    "HE_video_path = \"C:/Users/Public/Video_rezovi/HE\"\n",
    "Fokus_video_path = \"C:/Users/Public/Video_rezovi/Fokus\"\n",
    "Fine_video_path = \"C:/Users/Public/Video_rezovi/Fine\""
   ]
  },
  {
   "cell_type": "code",
   "execution_count": 36,
   "metadata": {
    "scrolled": true
   },
   "outputs": [],
   "source": [
    "#Definiranje funkcije za izvlačenje sličica iz svih video zapisa jednog kadra\n",
    "def image_extractor(in_video_path, out_image_path, image_res):\n",
    "    '''Funkcija za izvlačenje sličica iz svih videa jednog kadra za moji skup podataka.\n",
    "    \n",
    "    Da bi ova funkcija bila primjenjiva direktoriji i podatci o rezovima moraju biti\n",
    "    organizirani kao što je opisano u 1. fazi\n",
    "    \n",
    "    in_video_path : apsolutna putanja do direktorija sa ulaznim video zapisima\n",
    "    \n",
    "    out_image_path : apsolutna putanja do direktorija u kojem će biti poddirektoriji sličica pojedinog video zapisa\n",
    "    \n",
    "    image_res : <\"širina:visina\"> rezolucija slike\n",
    "    \n",
    "    Return : None\n",
    "    '''\n",
    "    #Petlja po video zapisima ulaznog direktorija\n",
    "    for video in tqdm(os.listdir(in_video_path)):\n",
    "        #Kreriranje putanje do ulaznog videa\n",
    "        input_video = os.path.join(in_video_path, video)\n",
    "        #Definiranje izlaznog poddirektorija - ovo je naziv direktorija sličica svakog pojedinog videa\n",
    "        output_subfolder = video.split(\".\")[0] #izbaci \".mp4\" dio\n",
    "        #Glavna funkcija koja koristi ffmpeg za izvlačenje sličica iz video zapisa, uz uzorkovanje 5 sličica po sekundi\n",
    "        video_to_image(input_video, os.path.join(out_image_path, output_subfolder), image_res=image_res, fps=5)"
   ]
  },
  {
   "cell_type": "markdown",
   "metadata": {},
   "source": [
    "### Obrada kadra HE"
   ]
  },
  {
   "cell_type": "code",
   "execution_count": 23,
   "metadata": {},
   "outputs": [
    {
     "name": "stderr",
     "output_type": "stream",
     "text": [
      "100%|████████████████████████████████████████████████████████████████████████████████| 628/628 [06:34<00:00,  1.59it/s]\n"
     ]
    }
   ],
   "source": [
    "#Putanja do izlaznog direktorija\n",
    "HE_image_output = \"C:/Users/Public/Uzorak_slika/HE\"\n",
    "HE_image_res = \"320:192\"\n",
    "image_extractor(HE_video_path, HE_image_output, HE_image_res)"
   ]
  },
  {
   "cell_type": "markdown",
   "metadata": {},
   "source": [
    "### Obrada kadra Fokus"
   ]
  },
  {
   "cell_type": "code",
   "execution_count": 33,
   "metadata": {},
   "outputs": [
    {
     "name": "stderr",
     "output_type": "stream",
     "text": [
      "100%|████████████████████████████████████████████████████████████████████████████████| 628/628 [05:46<00:00,  1.81it/s]\n"
     ]
    }
   ],
   "source": [
    "#Putanja do izlaznog direktorija\n",
    "Fokus_image_output= \"C:/Users/Public/Uzorak_slika/Fokus\"\n",
    "Fokus_image_res = \"320:160\"\n",
    "image_extractor(Fokus_video_path, Fokus_image_output, Fokus_image_res)"
   ]
  },
  {
   "cell_type": "markdown",
   "metadata": {},
   "source": [
    "### Obrada kadra Fine"
   ]
  },
  {
   "cell_type": "code",
   "execution_count": 34,
   "metadata": {},
   "outputs": [
    {
     "name": "stderr",
     "output_type": "stream",
     "text": [
      "100%|████████████████████████████████████████████████████████████████████████████████| 628/628 [06:41<00:00,  1.56it/s]\n"
     ]
    }
   ],
   "source": [
    "#Putanja do izlaznog direktorija\n",
    "Fine_image_output = \"C:/Users/Public/Uzorak_slika/Fine\"\n",
    "Fine_image_res = \"288:224\"\n",
    "image_extractor(Fine_video_path, Fine_image_output, Fine_image_res)"
   ]
  },
  {
   "cell_type": "markdown",
   "metadata": {},
   "source": [
    "## 5. Faza  - preimenovanje poddirektorija u Uzorak_slika/Fine kako bi imale iste oznake kao i uzorci u Fokus i HE kadru"
   ]
  },
  {
   "cell_type": "markdown",
   "metadata": {},
   "source": [
    "**Produkti faze:** Ažurirane oznake u  `Uzorak_slike/Fine`, ažurirani `Rezovi_final.xlsx`\n",
    "\n",
    "Zbog načina na koji je sniman kadar Fine u **1. danu** dio oznaka uzoraka razlikuje se od onih koje imaju uzorci iz kadrova Fokus i HE, po pitanju Video_ID oznake (kadar fine ih ima više jer je bio sniman na 60fps-a). Ovo je problematično kod daljnje obrade po pitanju označavanja. Stoga će njihove oznake za 1. dan biti standardizirane, kako bi bile jednake onima kod ostala dva kadra."
   ]
  },
  {
   "cell_type": "code",
   "execution_count": 22,
   "metadata": {},
   "outputs": [],
   "source": [
    "#Putanje do Fine oznaka\n",
    "fine_path = \"C:/Users/Public/Uzorak_slika/Fine\"\n",
    "\n",
    "#Standardne oznake, kao u npr. HE kadru, za 1. dan\n",
    "std_oznake = os.listdir(\"C:/Users/Public/Uzorak_slika/HE\")\n",
    "std_oznake_D1 = [oznaka for oznaka in std_oznake if oznaka.split(\"_\")[1] == \"D1\"]\n",
    "\n",
    "#Oznake kod Fine kadra, za 1. dan\n",
    "fine_oznake = os.listdir(\"C:/Users/Public/Uzorak_slika/Fine\")\n",
    "fine_oznake_D1 = [oznaka for oznaka in fine_oznake if oznaka.split(\"_\")[1] == \"D1\"]\n",
    "\n",
    "#Sortiranje jednih i drugih oznaka prema oznaci uzorka\n",
    "std_oznake_D1 = sorted(std_oznake_D1, key=lambda x: int(x.split(\"_\")[0]))\n",
    "fine_oznake_D1 = sorted(fine_oznake_D1, key=lambda x: int(x.split(\"_\")[0]))\n",
    "\n",
    "#Petlja po oznakama u kadru Fine i kadru HE\n",
    "for std_lab, fine_lab in zip(std_oznake_D1, fine_oznake_D1):\n",
    "    #Preimenovanje oznaka u Fine kadru sa imenima i kadra HE\n",
    "    os.rename(src=os.path.join(fine_path, fine_lab), dst=os.path.join(fine_path, std_lab))\n"
   ]
  },
  {
   "cell_type": "code",
   "execution_count": 27,
   "metadata": {},
   "outputs": [
    {
     "data": {
      "text/plain": [
       "True"
      ]
     },
     "execution_count": 27,
     "metadata": {},
     "output_type": "execute_result"
    }
   ],
   "source": [
    "#Provjera da li su sada sve oznake iste\n",
    "os.listdir(\"C:/Users/Public/Uzorak_slika/HE\") == os.listdir(\"C:/Users/Public/Uzorak_slika/Fine\")"
   ]
  },
  {
   "cell_type": "code",
   "execution_count": null,
   "metadata": {},
   "outputs": [],
   "source": []
  }
 ],
 "metadata": {
  "kernelspec": {
   "display_name": "Python 3",
   "language": "python",
   "name": "python3"
  },
  "language_info": {
   "codemirror_mode": {
    "name": "ipython",
    "version": 3
   },
   "file_extension": ".py",
   "mimetype": "text/x-python",
   "name": "python",
   "nbconvert_exporter": "python",
   "pygments_lexer": "ipython3",
   "version": "3.8.5"
  }
 },
 "nbformat": 4,
 "nbformat_minor": 4
}
